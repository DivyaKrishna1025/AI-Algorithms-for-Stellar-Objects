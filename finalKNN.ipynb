{
  "cells": [
    {
      "cell_type": "markdown",
      "id": "302b23f3",
      "metadata": {
        "id": "302b23f3"
      },
      "source": [
        "Copyright (c) 2022 AIClub\n",
        "\n",
        "Permission is hereby granted, free of charge, to any person obtaining a copy of this software and associated \n",
        "documentation files (the \"Software\"), to deal in the Software without restriction, including without \n",
        "limitation the rights to use, copy, modify, merge, publish, distribute, sublicense, and/or sell copies of \n",
        "the Software, and to permit persons to whom the Software is furnished to do so, subject to the following \n",
        "conditions:\n",
        "\n",
        "The above copyright notice and this permission notice shall be included in all copies or substantial\n",
        "portions of the Software.\n",
        "\n",
        "THE SOFTWARE IS PROVIDED \"AS IS\", WITHOUT WARRANTY OF ANY KIND, EXPRESS OR IMPLIED, INCLUDING BUT NOT \n",
        "LIMITED TO THE WARRANTIES OF MERCHANTABILITY, FITNESS FOR A PARTICULAR PURPOSE AND NONINFRINGEMENT. IN NO \n",
        "EVENT SHALL THE AUTHORS OR COPYRIGHT HOLDERS BE LIABLE FOR ANY CLAIM, DAMAGES OR OTHER LIABILITY, WHETHER IN \n",
        "AN ACTION OF CONTRACT, TORT OR OTHERWISE, ARISING FROM, OUT OF OR IN CONNECTION WITH THE SOFTWARE OR THE USE \n",
        "OR OTHER DEALINGS IN THE SOFTWARE.\n",
        "\n",
        "Follow our courses - https://www.corp.aiclub.world/courses\n",
        "\n"
      ]
    },
    {
      "cell_type": "code",
      "execution_count": null,
      "id": "b94f2a96",
      "metadata": {
        "id": "b94f2a96"
      },
      "outputs": [],
      "source": [
        "def launch_fe(data):\n",
        "    import os\n",
        "    import pandas as pd\n",
        "    from io import StringIO\n",
        "    import json\n",
        "    from sklearn.model_selection import train_test_split\n",
        "    from sklearn.feature_extraction.text import CountVectorizer\n",
        "    from sklearn.feature_extraction.text import TfidfVectorizer\n",
        "    from sklearn.impute import SimpleImputer\n",
        "    from sklearn.preprocessing import OneHotEncoder\n",
        "    from sklearn.feature_extraction import text\n",
        "    import pickle\n",
        "    from scipy import sparse\n",
        "    MAX_TEXT_FEATURES = 200\n",
        "    columns_list = [\"rerun_ID\", \"cam_col\", \"class\", \"obj_ID\", \"alpha\", \"delta\", \"u\", \"g\", \"r\", \"i\", \"z\", \"run_ID\", \"field_ID\", \"spec_obj_ID\", \"redshift\", \"plate\", \"MJD\", \"fiber_ID\"]\n",
        "\n",
        "    dataset = pd.read_csv(data, skipinitialspace=True)\n",
        "    num_samples = len(dataset)\n",
        "\n",
        "    # Encode labels into numbers starting with 0\n",
        "    label = \"class\"\n",
        "    tmpCol = dataset[label].astype('category')\n",
        "    dict_encoding = { label: dict(enumerate(tmpCol.cat.categories))}\n",
        "    # Save the model\n",
        "    model_name = \"af49c320-c232-4a01-9580-3271d5b37bdc\"\n",
        "    fh = open(model_name, \"wb\")\n",
        "    pickle.dump(dict_encoding, fh)\n",
        "    fh.close()\n",
        "\n",
        "    label = \"class\"\n",
        "    dataset[label] = tmpCol.cat.codes\n",
        "\n",
        "    # Move the label column\n",
        "    cols = list(dataset.columns)\n",
        "    colIdx = dataset.columns.get_loc(\"class\")\n",
        "    # Do nothing if the label is in the 0th position\n",
        "    # Otherwise, change the order of columns to move label to 0th position\n",
        "    if colIdx != 0:\n",
        "        cols = cols[colIdx:colIdx+1] + cols[0:colIdx] + cols[colIdx+1:]\n",
        "        dataset = dataset[cols]\n",
        "\n",
        "    # split dataset into train and test\n",
        "    train, test = train_test_split(dataset, test_size=0.2, random_state=42)\n",
        "\n",
        "    # Write train and test csv\n",
        "    train.to_csv('train.csv', index=False, header=False)\n",
        "    test.to_csv('test.csv', index=False, header=False)\n",
        "    column_names = list(train.columns)\n",
        "def get_model_id():\n",
        "    return \"af49c320-c232-4a01-9580-3271d5b37bdc\"\n"
      ]
    },
    {
      "cell_type": "code",
      "execution_count": null,
      "id": "517fb7bf",
      "metadata": {
        "id": "517fb7bf",
        "outputId": "698effde-91af-4506-ff14-650e5b1d528e",
        "colab": {
          "base_uri": "https://localhost:8080/",
          "height": 74
        }
      },
      "outputs": [
        {
          "output_type": "display_data",
          "data": {
            "text/plain": [
              "<IPython.core.display.HTML object>"
            ],
            "text/html": [
              "\n",
              "     <input type=\"file\" id=\"files-d5c9b2d4-8584-4241-ba60-1b8e85ae340d\" name=\"files[]\" multiple disabled\n",
              "        style=\"border:none\" />\n",
              "     <output id=\"result-d5c9b2d4-8584-4241-ba60-1b8e85ae340d\">\n",
              "      Upload widget is only available when the cell has been executed in the\n",
              "      current browser session. Please rerun this cell to enable.\n",
              "      </output>\n",
              "      <script>// Copyright 2017 Google LLC\n",
              "//\n",
              "// Licensed under the Apache License, Version 2.0 (the \"License\");\n",
              "// you may not use this file except in compliance with the License.\n",
              "// You may obtain a copy of the License at\n",
              "//\n",
              "//      http://www.apache.org/licenses/LICENSE-2.0\n",
              "//\n",
              "// Unless required by applicable law or agreed to in writing, software\n",
              "// distributed under the License is distributed on an \"AS IS\" BASIS,\n",
              "// WITHOUT WARRANTIES OR CONDITIONS OF ANY KIND, either express or implied.\n",
              "// See the License for the specific language governing permissions and\n",
              "// limitations under the License.\n",
              "\n",
              "/**\n",
              " * @fileoverview Helpers for google.colab Python module.\n",
              " */\n",
              "(function(scope) {\n",
              "function span(text, styleAttributes = {}) {\n",
              "  const element = document.createElement('span');\n",
              "  element.textContent = text;\n",
              "  for (const key of Object.keys(styleAttributes)) {\n",
              "    element.style[key] = styleAttributes[key];\n",
              "  }\n",
              "  return element;\n",
              "}\n",
              "\n",
              "// Max number of bytes which will be uploaded at a time.\n",
              "const MAX_PAYLOAD_SIZE = 100 * 1024;\n",
              "\n",
              "function _uploadFiles(inputId, outputId) {\n",
              "  const steps = uploadFilesStep(inputId, outputId);\n",
              "  const outputElement = document.getElementById(outputId);\n",
              "  // Cache steps on the outputElement to make it available for the next call\n",
              "  // to uploadFilesContinue from Python.\n",
              "  outputElement.steps = steps;\n",
              "\n",
              "  return _uploadFilesContinue(outputId);\n",
              "}\n",
              "\n",
              "// This is roughly an async generator (not supported in the browser yet),\n",
              "// where there are multiple asynchronous steps and the Python side is going\n",
              "// to poll for completion of each step.\n",
              "// This uses a Promise to block the python side on completion of each step,\n",
              "// then passes the result of the previous step as the input to the next step.\n",
              "function _uploadFilesContinue(outputId) {\n",
              "  const outputElement = document.getElementById(outputId);\n",
              "  const steps = outputElement.steps;\n",
              "\n",
              "  const next = steps.next(outputElement.lastPromiseValue);\n",
              "  return Promise.resolve(next.value.promise).then((value) => {\n",
              "    // Cache the last promise value to make it available to the next\n",
              "    // step of the generator.\n",
              "    outputElement.lastPromiseValue = value;\n",
              "    return next.value.response;\n",
              "  });\n",
              "}\n",
              "\n",
              "/**\n",
              " * Generator function which is called between each async step of the upload\n",
              " * process.\n",
              " * @param {string} inputId Element ID of the input file picker element.\n",
              " * @param {string} outputId Element ID of the output display.\n",
              " * @return {!Iterable<!Object>} Iterable of next steps.\n",
              " */\n",
              "function* uploadFilesStep(inputId, outputId) {\n",
              "  const inputElement = document.getElementById(inputId);\n",
              "  inputElement.disabled = false;\n",
              "\n",
              "  const outputElement = document.getElementById(outputId);\n",
              "  outputElement.innerHTML = '';\n",
              "\n",
              "  const pickedPromise = new Promise((resolve) => {\n",
              "    inputElement.addEventListener('change', (e) => {\n",
              "      resolve(e.target.files);\n",
              "    });\n",
              "  });\n",
              "\n",
              "  const cancel = document.createElement('button');\n",
              "  inputElement.parentElement.appendChild(cancel);\n",
              "  cancel.textContent = 'Cancel upload';\n",
              "  const cancelPromise = new Promise((resolve) => {\n",
              "    cancel.onclick = () => {\n",
              "      resolve(null);\n",
              "    };\n",
              "  });\n",
              "\n",
              "  // Wait for the user to pick the files.\n",
              "  const files = yield {\n",
              "    promise: Promise.race([pickedPromise, cancelPromise]),\n",
              "    response: {\n",
              "      action: 'starting',\n",
              "    }\n",
              "  };\n",
              "\n",
              "  cancel.remove();\n",
              "\n",
              "  // Disable the input element since further picks are not allowed.\n",
              "  inputElement.disabled = true;\n",
              "\n",
              "  if (!files) {\n",
              "    return {\n",
              "      response: {\n",
              "        action: 'complete',\n",
              "      }\n",
              "    };\n",
              "  }\n",
              "\n",
              "  for (const file of files) {\n",
              "    const li = document.createElement('li');\n",
              "    li.append(span(file.name, {fontWeight: 'bold'}));\n",
              "    li.append(span(\n",
              "        `(${file.type || 'n/a'}) - ${file.size} bytes, ` +\n",
              "        `last modified: ${\n",
              "            file.lastModifiedDate ? file.lastModifiedDate.toLocaleDateString() :\n",
              "                                    'n/a'} - `));\n",
              "    const percent = span('0% done');\n",
              "    li.appendChild(percent);\n",
              "\n",
              "    outputElement.appendChild(li);\n",
              "\n",
              "    const fileDataPromise = new Promise((resolve) => {\n",
              "      const reader = new FileReader();\n",
              "      reader.onload = (e) => {\n",
              "        resolve(e.target.result);\n",
              "      };\n",
              "      reader.readAsArrayBuffer(file);\n",
              "    });\n",
              "    // Wait for the data to be ready.\n",
              "    let fileData = yield {\n",
              "      promise: fileDataPromise,\n",
              "      response: {\n",
              "        action: 'continue',\n",
              "      }\n",
              "    };\n",
              "\n",
              "    // Use a chunked sending to avoid message size limits. See b/62115660.\n",
              "    let position = 0;\n",
              "    do {\n",
              "      const length = Math.min(fileData.byteLength - position, MAX_PAYLOAD_SIZE);\n",
              "      const chunk = new Uint8Array(fileData, position, length);\n",
              "      position += length;\n",
              "\n",
              "      const base64 = btoa(String.fromCharCode.apply(null, chunk));\n",
              "      yield {\n",
              "        response: {\n",
              "          action: 'append',\n",
              "          file: file.name,\n",
              "          data: base64,\n",
              "        },\n",
              "      };\n",
              "\n",
              "      let percentDone = fileData.byteLength === 0 ?\n",
              "          100 :\n",
              "          Math.round((position / fileData.byteLength) * 100);\n",
              "      percent.textContent = `${percentDone}% done`;\n",
              "\n",
              "    } while (position < fileData.byteLength);\n",
              "  }\n",
              "\n",
              "  // All done.\n",
              "  yield {\n",
              "    response: {\n",
              "      action: 'complete',\n",
              "    }\n",
              "  };\n",
              "}\n",
              "\n",
              "scope.google = scope.google || {};\n",
              "scope.google.colab = scope.google.colab || {};\n",
              "scope.google.colab._files = {\n",
              "  _uploadFiles,\n",
              "  _uploadFilesContinue,\n",
              "};\n",
              "})(self);\n",
              "</script> "
            ]
          },
          "metadata": {}
        },
        {
          "output_type": "stream",
          "name": "stdout",
          "text": [
            "Saving balanced_star_classification.csv to balanced_star_classification.csv\n"
          ]
        }
      ],
      "source": [
        "\n",
        "# Upload a correct file from your local machine\n",
        "from io import BytesIO\n",
        "from google.colab import files\n",
        "uploaded_file = files.upload()\n",
        "for name in uploaded_file.keys():\n",
        "    filename = name\n",
        "data = BytesIO(uploaded_file[filename])\n"
      ]
    },
    {
      "cell_type": "code",
      "source": [
        "from google.colab import drive\n",
        "drive.mount('/content/drive')"
      ],
      "metadata": {
        "colab": {
          "base_uri": "https://localhost:8080/"
        },
        "id": "iq2J2jfCPSwZ",
        "outputId": "883e8125-8e15-426d-8fc2-3fa3485d09e3"
      },
      "id": "iq2J2jfCPSwZ",
      "execution_count": null,
      "outputs": [
        {
          "output_type": "stream",
          "name": "stdout",
          "text": [
            "Mounted at /content/drive\n"
          ]
        }
      ]
    },
    {
      "cell_type": "code",
      "execution_count": null,
      "id": "a535b10f",
      "metadata": {
        "id": "a535b10f"
      },
      "outputs": [],
      "source": [
        "\n",
        "# Launch FE\n",
        "launch_fe(data)\n"
      ]
    },
    {
      "cell_type": "code",
      "execution_count": null,
      "id": "997e805f",
      "metadata": {
        "id": "997e805f"
      },
      "outputs": [],
      "source": [
        "\n",
        "# import the library of the algorithm\n",
        "from sklearn.neighbors import KNeighborsClassifier\n",
        "\n",
        "# Initialize hyperparams\n",
        "n_neighbors = 10\n",
        "\n",
        "# Initialize the algorithm\n",
        "model = KNeighborsClassifier(n_neighbors=n_neighbors)\n"
      ]
    },
    {
      "cell_type": "code",
      "execution_count": null,
      "id": "3ed19412",
      "metadata": {
        "id": "3ed19412",
        "outputId": "0164b291-da6a-448b-8ec2-8b101331a627",
        "colab": {
          "base_uri": "https://localhost:8080/"
        }
      },
      "outputs": [
        {
          "output_type": "execute_result",
          "data": {
            "text/plain": [
              "KNeighborsClassifier(n_neighbors=10)"
            ]
          },
          "metadata": {},
          "execution_count": 5
        }
      ],
      "source": [
        "\n",
        "import pandas as pd\n",
        "# Load the test and train datasets\n",
        "train = pd.read_csv('train.csv', skipinitialspace=True, header=None)\n",
        "test = pd.read_csv('test.csv', skipinitialspace=True, header=None)\n",
        "# Train the algorithm\n",
        "model.fit(train.iloc[:,1:], train.iloc[:,0])\n"
      ]
    },
    {
      "cell_type": "code",
      "execution_count": null,
      "id": "89fdac7b",
      "metadata": {
        "id": "89fdac7b"
      },
      "outputs": [],
      "source": [
        "def encode_confusion_matrix(confusion_matrix):\n",
        "    import pickle\n",
        "    encoded_matrix = dict()\n",
        "    object_name = get_model_id()\n",
        "    file_name = open(object_name, 'rb')\n",
        "    dict_encoding = pickle.load(file_name)\n",
        "    labels = list(dict_encoding.values())[0]\n",
        "    for row_indx, row in enumerate(confusion_matrix):\n",
        "        encoded_matrix[labels[row_indx]] = {}\n",
        "        for item_indx, item in enumerate(row):\n",
        "            encoded_matrix[labels[row_indx]][labels[item_indx]] = item\n",
        "    return encoded_matrix\n"
      ]
    },
    {
      "cell_type": "code",
      "execution_count": null,
      "id": "0af6cf31",
      "metadata": {
        "id": "0af6cf31",
        "outputId": "556398eb-4dd4-4732-fc28-8fa4a8cdf2d9",
        "colab": {
          "base_uri": "https://localhost:8080/"
        }
      },
      "outputs": [
        {
          "output_type": "stream",
          "name": "stdout",
          "text": [
            "Confusion matrix of the model is:  {'GALAXY': {'GALAXY': 2827, 'QSO': 689, 'STAR': 338}, 'QSO': {'GALAXY': 969, 'QSO': 2426, 'STAR': 416}, 'STAR': {'GALAXY': 788, 'QSO': 934, 'STAR': 1990}}\n",
            "Accuracy of the model is:  63.6635316867364\n"
          ]
        }
      ],
      "source": [
        "\n",
        "# Predict the class labels\n",
        "y_pred = model.predict(test.iloc[:,1:])\n",
        "# import the library to calculate confusion_matrix\n",
        "from sklearn.metrics import confusion_matrix\n",
        "# calculate confusion matrix\n",
        "confusion_matrix = confusion_matrix(test.iloc[:,0], y_pred)\n",
        "encoded_matrix = encode_confusion_matrix(confusion_matrix)\n",
        "print('Confusion matrix of the model is: ', encoded_matrix)\n",
        "# calculate accuracy\n",
        "score = model.score(test.iloc[:, 1:], test.iloc[:, 0])\n",
        "# The value is returned as a decimal value between 0 and 1\n",
        "# converting to percentage\n",
        "accuracy = score * 100\n",
        "print('Accuracy of the model is: ', accuracy)\n"
      ]
    },
    {
      "cell_type": "code",
      "source": [
        "from sklearn.metrics import confusion_matrix\n",
        "y_true=test.iloc[:,0]\n",
        "cm = confusion_matrix(y_true,y_pred)\n",
        "print(cm)"
      ],
      "metadata": {
        "colab": {
          "base_uri": "https://localhost:8080/"
        },
        "id": "OIWuThDuX-QP",
        "outputId": "7edea37c-acbd-46ec-8745-6c5cefba50bd"
      },
      "id": "OIWuThDuX-QP",
      "execution_count": null,
      "outputs": [
        {
          "output_type": "stream",
          "name": "stdout",
          "text": [
            "[[2827  689  338]\n",
            " [ 969 2426  416]\n",
            " [ 788  934 1990]]\n"
          ]
        }
      ]
    },
    {
      "cell_type": "code",
      "execution_count": null,
      "id": "30f6dcd3",
      "metadata": {
        "id": "30f6dcd3",
        "outputId": "3153c88c-217b-45b2-eb9b-34b141e6efce",
        "colab": {
          "base_uri": "https://localhost:8080/"
        }
      },
      "outputs": [
        {
          "output_type": "stream",
          "name": "stdout",
          "text": [
            "Below is the prediction stage of the AI\n"
          ]
        }
      ],
      "source": [
        "\n",
        "# fe_transform function traansforms raw data into a form the model can consume\n",
        "print('Below is the prediction stage of the AI')\n",
        "def fe_transform(data_dict, object_path=None):\n",
        "    import os\n",
        "    import pandas as pd\n",
        "    from io import StringIO\n",
        "    import json\n",
        "    from sklearn.model_selection import train_test_split\n",
        "    from sklearn.feature_extraction.text import CountVectorizer\n",
        "    from sklearn.feature_extraction.text import TfidfVectorizer\n",
        "    from sklearn.impute import SimpleImputer\n",
        "    from sklearn.preprocessing import OneHotEncoder\n",
        "    from sklearn.feature_extraction import text\n",
        "    import pickle\n",
        "    from scipy import sparse\n",
        "    \n",
        "    dataset = pd.DataFrame([data_dict])\n",
        "\n",
        "    return dataset\n",
        "def encode_label_transform_predict(prediction):\n",
        "    import pickle\n",
        "    encoded_prediction = prediction\n",
        "    label = \"class\"\n",
        "    object_name = \"af49c320-c232-4a01-9580-3271d5b37bdc\"\n",
        "    file_name = open(object_name, 'rb')\n",
        "    dict_encoding = pickle.load(file_name)\n",
        "    label_name = list(dict_encoding.keys())[0]\n",
        "    encoded_prediction = \\\n",
        "        dict_encoding[label_name][int(prediction)]\n",
        "    print(encoded_prediction)\n",
        "def get_labels(object_path=None):\n",
        "    label_names = []\n",
        "    label_name = list(dict_encoding.keys())[0]\n",
        "    label_values_dict = dict_encoding[label_name]\n",
        "    for key, value in label_values_dict.items():\n",
        "        label_names.append(str(value))\n"
      ]
    },
    {
      "cell_type": "code",
      "execution_count": null,
      "id": "423d5e68",
      "metadata": {
        "id": "423d5e68",
        "outputId": "17e9855d-bea9-4feb-8fed-281aa08afd31",
        "colab": {
          "base_uri": "https://localhost:8080/"
        }
      },
      "outputs": [
        {
          "output_type": "stream",
          "name": "stdout",
          "text": [
            "GALAXY\n"
          ]
        },
        {
          "output_type": "stream",
          "name": "stderr",
          "text": [
            "/usr/local/lib/python3.8/dist-packages/sklearn/base.py:443: UserWarning: X has feature names, but KNeighborsClassifier was fitted without feature names\n",
            "  warnings.warn(\n"
          ]
        }
      ],
      "source": [
        "\n",
        "test_sample = {'obj_ID': 1.23766323632518e+18, 'alpha': 180.00266879944, 'delta': 32.6821601350916, 'u': -4983.109305, 'g': -4983.69888, 'r': 19.59809, 'i': 20.8056865, 'z': -4985.104725, 'run_ID': 4135.5, 'rerun_ID': 301, 'cam_col': 4, 'field_ID': 500.0, 'spec_obj_ID': 7.213259948368224e+18, 'redshift': 3.5021909085, 'plate': 6406.5, 'MJD': 55270.0, 'fiber_ID': 500.5}\n",
        "# Call FE on test_sample\n",
        "test_sample_modified = fe_transform(test_sample)\n",
        "# Make a prediction\n",
        "prediction = model.predict(test_sample_modified)\n",
        "encode_label_transform_predict(prediction)\n"
      ]
    },
    {
      "cell_type": "code",
      "source": [
        " \n",
        "from sklearn.neighbors import KNeighborsClassifier\n",
        "\n",
        "k_hyper_parameters = [1, 2, 3, 4, 5, 6, 7, 8, 9, 10]\n",
        "for k in k_hyper_parameters:\n",
        "  model = KNeighborsClassifier(n_neighbors = k)\n",
        "  model.fit(train.iloc[:,1:],train.iloc[:,0])\n",
        "  score = model.score(test.iloc[:,1:],test.iloc[:,0])\n",
        "  accuracy = score*100\n",
        "  print(accuracy)\n",
        "  \n"
      ],
      "metadata": {
        "id": "53_f6Ih0voM0",
        "outputId": "abe5feb8-91e0-4050-f989-0fc207efa863",
        "colab": {
          "base_uri": "https://localhost:8080/"
        }
      },
      "id": "53_f6Ih0voM0",
      "execution_count": null,
      "outputs": [
        {
          "output_type": "stream",
          "name": "stdout",
          "text": [
            "58.8116375142832\n",
            "61.31669157071285\n",
            "61.589171134745534\n",
            "62.863672321350094\n",
            "62.98672760833261\n",
            "63.50531774633031\n",
            "63.32952447921245\n",
            "63.44379010283906\n",
            "63.593214379889254\n",
            "63.6635316867364\n"
          ]
        }
      ]
    },
    {
      "cell_type": "code",
      "source": [
        "import matplotlib.pyplot as plt\n",
        "import numpy as np\n",
        "accuracy = [58.812, 61.316, 61.589, 62.863, 62.986, 63.505, 63.329, 63.443, 63.593, 63.663]\n",
        "plt.plot(accuracy, k_hyper_parameters, label = 'K Neighbor Algorithm')\n",
        "plt.xlabel('K Value') \n",
        "plt.ylabel('Accuracy')\n",
        "plt.title('Accuracy of K Neighbor Algorithms')\n",
        "plt.legend()\n",
        "plt.show()\n"
      ],
      "metadata": {
        "colab": {
          "base_uri": "https://localhost:8080/",
          "height": 295
        },
        "id": "rwxaSGb4oGa8",
        "outputId": "a7f62623-c0fe-4f71-9d5a-13cffe902b51"
      },
      "id": "rwxaSGb4oGa8",
      "execution_count": null,
      "outputs": [
        {
          "output_type": "display_data",
          "data": {
            "text/plain": [
              "<Figure size 432x288 with 1 Axes>"
            ],
            "image/png": "[encoded data removed]"
          },
          "metadata": {
            "needs_background": "light"
          }
        }
      ]
    },
    {
      "cell_type": "code",
      "source": [
        "import pickle \n",
        "from sklearn.neighbors import KNeighborsClassifier\n",
        "n_neighbors = 10\n",
        "train = pd.read_csv('train.csv', skipinitialspace=True, header=None)\n",
        "model = KNeighborsClassifier(n_neighbors=n_neighbors)\n",
        "model.fit(train.iloc[:,1:],train.iloc[:,0])\n",
        "model_name = \"/content/drive/Shareddrives/1:1DivyaKrishna/Models/knn_final_model/model\"\n",
        "fh = open(model_name,'wb')\n",
        "pickle.dump(model,fh)\n",
        "fh.close()"
      ],
      "metadata": {
        "id": "M3oH7h0Ete8O"
      },
      "id": "M3oH7h0Ete8O",
      "execution_count": null,
      "outputs": []
    },
    {
      "cell_type": "code",
      "source": [
        "from sklearn.metrics import accuracy_score, f1_score\n",
        "sortedlabels=model.classes_\n",
        "cm = pd.DataFrame(confusion_matrix, index=sortedlabels, columns=sortedlabels)\n",
        "import seaborn as sns\n",
        "import matplotlib.pyplot as plt\n",
        "sns.set(font_scale=1.2)\n",
        "sns.heatmap(cm,linewidths=0.5,cmap=sns.light_palette((1,0.2,0.6), n_colors=10000),fmt='g', annot=True)\n",
        "plt.xlabel('Predicted')\n",
        "plt.ylabel('True')"
      ],
      "metadata": {
        "id": "RL8zGS2mTB6f",
        "colab": {
          "base_uri": "https://localhost:8080/",
          "height": 800
        },
        "outputId": "442ef489-a62c-47cc-ab63-7b3e90653e1c"
      },
      "id": "RL8zGS2mTB6f",
      "execution_count": null,
      "outputs": [
        {
          "output_type": "error",
          "ename": "TypeError",
          "evalue": "ignored",
          "traceback": [
            "\u001b[0;31m---------------------------------------------------------------------------\u001b[0m",
            "\u001b[0;31mTypeError\u001b[0m                                 Traceback (most recent call last)",
            "\u001b[0;32m<ipython-input-14-b617fd93ef1b>\u001b[0m in \u001b[0;36m<module>\u001b[0;34m\u001b[0m\n\u001b[1;32m      5\u001b[0m \u001b[0;32mimport\u001b[0m \u001b[0mmatplotlib\u001b[0m\u001b[0;34m.\u001b[0m\u001b[0mpyplot\u001b[0m \u001b[0;32mas\u001b[0m \u001b[0mplt\u001b[0m\u001b[0;34m\u001b[0m\u001b[0;34m\u001b[0m\u001b[0m\n\u001b[1;32m      6\u001b[0m \u001b[0msns\u001b[0m\u001b[0;34m.\u001b[0m\u001b[0mset\u001b[0m\u001b[0;34m(\u001b[0m\u001b[0mfont_scale\u001b[0m\u001b[0;34m=\u001b[0m\u001b[0;36m1.2\u001b[0m\u001b[0;34m)\u001b[0m\u001b[0;34m\u001b[0m\u001b[0;34m\u001b[0m\u001b[0m\n\u001b[0;32m----> 7\u001b[0;31m \u001b[0msns\u001b[0m\u001b[0;34m.\u001b[0m\u001b[0mheatmap\u001b[0m\u001b[0;34m(\u001b[0m\u001b[0mcm\u001b[0m\u001b[0;34m,\u001b[0m\u001b[0mlinewidths\u001b[0m\u001b[0;34m=\u001b[0m\u001b[0;36m0.5\u001b[0m\u001b[0;34m,\u001b[0m\u001b[0mcmap\u001b[0m\u001b[0;34m=\u001b[0m\u001b[0msns\u001b[0m\u001b[0;34m.\u001b[0m\u001b[0mlight_palette\u001b[0m\u001b[0;34m(\u001b[0m\u001b[0;34m(\u001b[0m\u001b[0;36m1\u001b[0m\u001b[0;34m,\u001b[0m\u001b[0;36m0.2\u001b[0m\u001b[0;34m,\u001b[0m\u001b[0;36m0.6\u001b[0m\u001b[0;34m)\u001b[0m\u001b[0;34m,\u001b[0m \u001b[0mn_colors\u001b[0m\u001b[0;34m=\u001b[0m\u001b[0;36m10000\u001b[0m\u001b[0;34m)\u001b[0m\u001b[0;34m,\u001b[0m\u001b[0mfmt\u001b[0m\u001b[0;34m=\u001b[0m\u001b[0;34m'g'\u001b[0m\u001b[0;34m,\u001b[0m \u001b[0mannot\u001b[0m\u001b[0;34m=\u001b[0m\u001b[0;32mTrue\u001b[0m\u001b[0;34m)\u001b[0m\u001b[0;34m\u001b[0m\u001b[0;34m\u001b[0m\u001b[0m\n\u001b[0m\u001b[1;32m      8\u001b[0m \u001b[0mplt\u001b[0m\u001b[0;34m.\u001b[0m\u001b[0mxlabel\u001b[0m\u001b[0;34m(\u001b[0m\u001b[0;34m'Predicted'\u001b[0m\u001b[0;34m)\u001b[0m\u001b[0;34m\u001b[0m\u001b[0;34m\u001b[0m\u001b[0m\n\u001b[1;32m      9\u001b[0m \u001b[0mplt\u001b[0m\u001b[0;34m.\u001b[0m\u001b[0mylabel\u001b[0m\u001b[0;34m(\u001b[0m\u001b[0;34m'True'\u001b[0m\u001b[0;34m)\u001b[0m\u001b[0;34m\u001b[0m\u001b[0;34m\u001b[0m\u001b[0m\n",
            "\u001b[0;32m/usr/local/lib/python3.8/dist-packages/seaborn/_decorators.py\u001b[0m in \u001b[0;36minner_f\u001b[0;34m(*args, **kwargs)\u001b[0m\n\u001b[1;32m     44\u001b[0m             )\n\u001b[1;32m     45\u001b[0m         \u001b[0mkwargs\u001b[0m\u001b[0;34m.\u001b[0m\u001b[0mupdate\u001b[0m\u001b[0;34m(\u001b[0m\u001b[0;34m{\u001b[0m\u001b[0mk\u001b[0m\u001b[0;34m:\u001b[0m \u001b[0marg\u001b[0m \u001b[0;32mfor\u001b[0m \u001b[0mk\u001b[0m\u001b[0;34m,\u001b[0m \u001b[0marg\u001b[0m \u001b[0;32min\u001b[0m \u001b[0mzip\u001b[0m\u001b[0;34m(\u001b[0m\u001b[0msig\u001b[0m\u001b[0;34m.\u001b[0m\u001b[0mparameters\u001b[0m\u001b[0;34m,\u001b[0m \u001b[0margs\u001b[0m\u001b[0;34m)\u001b[0m\u001b[0;34m}\u001b[0m\u001b[0;34m)\u001b[0m\u001b[0;34m\u001b[0m\u001b[0;34m\u001b[0m\u001b[0m\n\u001b[0;32m---> 46\u001b[0;31m         \u001b[0;32mreturn\u001b[0m \u001b[0mf\u001b[0m\u001b[0;34m(\u001b[0m\u001b[0;34m**\u001b[0m\u001b[0mkwargs\u001b[0m\u001b[0;34m)\u001b[0m\u001b[0;34m\u001b[0m\u001b[0;34m\u001b[0m\u001b[0m\n\u001b[0m\u001b[1;32m     47\u001b[0m     \u001b[0;32mreturn\u001b[0m \u001b[0minner_f\u001b[0m\u001b[0;34m\u001b[0m\u001b[0;34m\u001b[0m\u001b[0m\n\u001b[1;32m     48\u001b[0m \u001b[0;34m\u001b[0m\u001b[0m\n",
            "\u001b[0;32m/usr/local/lib/python3.8/dist-packages/seaborn/matrix.py\u001b[0m in \u001b[0;36mheatmap\u001b[0;34m(data, vmin, vmax, cmap, center, robust, annot, fmt, annot_kws, linewidths, linecolor, cbar, cbar_kws, cbar_ax, square, xticklabels, yticklabels, mask, ax, **kwargs)\u001b[0m\n\u001b[1;32m    538\u001b[0m     \"\"\"\n\u001b[1;32m    539\u001b[0m     \u001b[0;31m# Initialize the plotter object\u001b[0m\u001b[0;34m\u001b[0m\u001b[0;34m\u001b[0m\u001b[0;34m\u001b[0m\u001b[0m\n\u001b[0;32m--> 540\u001b[0;31m     plotter = _HeatMapper(data, vmin, vmax, cmap, center, robust, annot, fmt,\n\u001b[0m\u001b[1;32m    541\u001b[0m                           \u001b[0mannot_kws\u001b[0m\u001b[0;34m,\u001b[0m \u001b[0mcbar\u001b[0m\u001b[0;34m,\u001b[0m \u001b[0mcbar_kws\u001b[0m\u001b[0;34m,\u001b[0m \u001b[0mxticklabels\u001b[0m\u001b[0;34m,\u001b[0m\u001b[0;34m\u001b[0m\u001b[0;34m\u001b[0m\u001b[0m\n\u001b[1;32m    542\u001b[0m                           yticklabels, mask)\n",
            "\u001b[0;32m/usr/local/lib/python3.8/dist-packages/seaborn/matrix.py\u001b[0m in \u001b[0;36m__init__\u001b[0;34m(self, data, vmin, vmax, cmap, center, robust, annot, fmt, annot_kws, cbar, cbar_kws, xticklabels, yticklabels, mask)\u001b[0m\n\u001b[1;32m    157\u001b[0m \u001b[0;34m\u001b[0m\u001b[0m\n\u001b[1;32m    158\u001b[0m         \u001b[0;31m# Determine good default values for the colormapping\u001b[0m\u001b[0;34m\u001b[0m\u001b[0;34m\u001b[0m\u001b[0;34m\u001b[0m\u001b[0m\n\u001b[0;32m--> 159\u001b[0;31m         self._determine_cmap_params(plot_data, vmin, vmax,\n\u001b[0m\u001b[1;32m    160\u001b[0m                                     cmap, center, robust)\n\u001b[1;32m    161\u001b[0m \u001b[0;34m\u001b[0m\u001b[0m\n",
            "\u001b[0;32m/usr/local/lib/python3.8/dist-packages/seaborn/matrix.py\u001b[0m in \u001b[0;36m_determine_cmap_params\u001b[0;34m(self, plot_data, vmin, vmax, cmap, center, robust)\u001b[0m\n\u001b[1;32m    191\u001b[0m \u001b[0;34m\u001b[0m\u001b[0m\n\u001b[1;32m    192\u001b[0m         \u001b[0;31m# plot_data is a np.ma.array instance\u001b[0m\u001b[0;34m\u001b[0m\u001b[0;34m\u001b[0m\u001b[0;34m\u001b[0m\u001b[0m\n\u001b[0;32m--> 193\u001b[0;31m         \u001b[0mcalc_data\u001b[0m \u001b[0;34m=\u001b[0m \u001b[0mplot_data\u001b[0m\u001b[0;34m.\u001b[0m\u001b[0mastype\u001b[0m\u001b[0;34m(\u001b[0m\u001b[0mfloat\u001b[0m\u001b[0;34m)\u001b[0m\u001b[0;34m.\u001b[0m\u001b[0mfilled\u001b[0m\u001b[0;34m(\u001b[0m\u001b[0mnp\u001b[0m\u001b[0;34m.\u001b[0m\u001b[0mnan\u001b[0m\u001b[0;34m)\u001b[0m\u001b[0;34m\u001b[0m\u001b[0;34m\u001b[0m\u001b[0m\n\u001b[0m\u001b[1;32m    194\u001b[0m         \u001b[0;32mif\u001b[0m \u001b[0mvmin\u001b[0m \u001b[0;32mis\u001b[0m \u001b[0;32mNone\u001b[0m\u001b[0;34m:\u001b[0m\u001b[0;34m\u001b[0m\u001b[0;34m\u001b[0m\u001b[0m\n\u001b[1;32m    195\u001b[0m             \u001b[0;32mif\u001b[0m \u001b[0mrobust\u001b[0m\u001b[0;34m:\u001b[0m\u001b[0;34m\u001b[0m\u001b[0;34m\u001b[0m\u001b[0m\n",
            "\u001b[0;31mTypeError\u001b[0m: float() argument must be a string or a number, not 'function'"
          ]
        }
      ]
    }
  ],
  "metadata": {
    "colab": {
      "provenance": []
    },
    "language_info": {
      "name": "python"
    },
    "kernelspec": {
      "name": "python3",
      "display_name": "Python 3"
    },
    "gpuClass": "standard",
    "accelerator": "GPU"
  },
  "nbformat": 4,
  "nbformat_minor": 5
}