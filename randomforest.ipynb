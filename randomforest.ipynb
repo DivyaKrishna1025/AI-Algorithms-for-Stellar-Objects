{
  "cells": [
    {
      "cell_type": "markdown",
      "id": "6531500c",
      "metadata": {
        "id": "6531500c"
      },
      "source": [
        "Copyright (c) 2022 AIClub\n",
        "\n",
        "Permission is hereby granted, free of charge, to any person obtaining a copy of this software and associated \n",
        "documentation files (the \"Software\"), to deal in the Software without restriction, including without \n",
        "limitation the rights to use, copy, modify, merge, publish, distribute, sublicense, and/or sell copies of \n",
        "the Software, and to permit persons to whom the Software is furnished to do so, subject to the following \n",
        "conditions:\n",
        "\n",
        "The above copyright notice and this permission notice shall be included in all copies or substantial\n",
        "portions of the Software.\n",
        "\n",
        "THE SOFTWARE IS PROVIDED \"AS IS\", WITHOUT WARRANTY OF ANY KIND, EXPRESS OR IMPLIED, INCLUDING BUT NOT \n",
        "LIMITED TO THE WARRANTIES OF MERCHANTABILITY, FITNESS FOR A PARTICULAR PURPOSE AND NONINFRINGEMENT. IN NO \n",
        "EVENT SHALL THE AUTHORS OR COPYRIGHT HOLDERS BE LIABLE FOR ANY CLAIM, DAMAGES OR OTHER LIABILITY, WHETHER IN \n",
        "AN ACTION OF CONTRACT, TORT OR OTHERWISE, ARISING FROM, OUT OF OR IN CONNECTION WITH THE SOFTWARE OR THE USE \n",
        "OR OTHER DEALINGS IN THE SOFTWARE.\n",
        "\n",
        "Follow our courses - https://www.corp.aiclub.world/courses\n",
        "\n"
      ]
    },
    {
      "cell_type": "code",
      "execution_count": null,
      "id": "e67e2f48",
      "metadata": {
        "id": "e67e2f48"
      },
      "outputs": [],
      "source": [
        "def launch_fe(data):\n",
        "    import os\n",
        "    import pandas as pd\n",
        "    from io import StringIO\n",
        "    import json\n",
        "    from sklearn.model_selection import train_test_split\n",
        "    from sklearn.feature_extraction.text import CountVectorizer\n",
        "    from sklearn.feature_extraction.text import TfidfVectorizer\n",
        "    from sklearn.impute import SimpleImputer\n",
        "    from sklearn.preprocessing import OneHotEncoder\n",
        "    from sklearn.feature_extraction import text\n",
        "    import pickle\n",
        "    from scipy import sparse\n",
        "    MAX_TEXT_FEATURES = 200\n",
        "    columns_list = [\"rerun_ID\", \"cam_col\", \"class\", \"obj_ID\", \"alpha\", \"delta\", \"u\", \"g\", \"r\", \"i\", \"z\", \"run_ID\", \"field_ID\", \"spec_obj_ID\", \"redshift\", \"plate\", \"MJD\", \"fiber_ID\"]\n",
        "\n",
        "    dataset = pd.read_csv(data, skipinitialspace=True)\n",
        "    num_samples = len(dataset)\n",
        "\n",
        "    # Encode labels into numbers starting with 0\n",
        "    label = \"class\"\n",
        "    tmpCol = dataset[label].astype('category')\n",
        "    dict_encoding = { label: dict(enumerate(tmpCol.cat.categories))}\n",
        "    # Save the model\n",
        "    model_name = \"b1c88cfe-2098-49e1-8616-f454912c3ab5\"\n",
        "    fh = open(model_name, \"wb\")\n",
        "    pickle.dump(dict_encoding, fh)\n",
        "    fh.close()\n",
        "\n",
        "    label = \"class\"\n",
        "    dataset[label] = tmpCol.cat.codes\n",
        "\n",
        "    # Move the label column\n",
        "    cols = list(dataset.columns)\n",
        "    colIdx = dataset.columns.get_loc(\"class\")\n",
        "    # Do nothing if the label is in the 0th position\n",
        "    # Otherwise, change the order of columns to move label to 0th position\n",
        "    if colIdx != 0:\n",
        "        cols = cols[colIdx:colIdx+1] + cols[0:colIdx] + cols[colIdx+1:]\n",
        "        dataset = dataset[cols]\n",
        "\n",
        "    # split dataset into train and test\n",
        "    train, test = train_test_split(dataset, test_size=0.2, random_state=42)\n",
        "\n",
        "    # Write train and test csv\n",
        "    train.to_csv('train.csv', index=False, header=False)\n",
        "    test.to_csv('test.csv', index=False, header=False)\n",
        "    column_names = list(train.columns)\n",
        "def get_model_id():\n",
        "    return \"b1c88cfe-2098-49e1-8616-f454912c3ab5\"\n"
      ]
    },
    {
      "cell_type": "code",
      "execution_count": null,
      "id": "8a7a73b5",
      "metadata": {
        "id": "8a7a73b5",
        "colab": {
          "base_uri": "https://localhost:8080/",
          "height": 74
        },
        "outputId": "05a32122-7db5-4f67-bf40-790552638b8b"
      },
      "outputs": [
        {
          "output_type": "display_data",
          "data": {
            "text/plain": [
              "<IPython.core.display.HTML object>"
            ],
            "text/html": [
              "\n",
              "     <input type=\"file\" id=\"files-06120e5f-7cb6-4a13-9d32-18139597e531\" name=\"files[]\" multiple disabled\n",
              "        style=\"border:none\" />\n",
              "     <output id=\"result-06120e5f-7cb6-4a13-9d32-18139597e531\">\n",
              "      Upload widget is only available when the cell has been executed in the\n",
              "      current browser session. Please rerun this cell to enable.\n",
              "      </output>\n",
              "      <script>// Copyright 2017 Google LLC\n",
              "//\n",
              "// Licensed under the Apache License, Version 2.0 (the \"License\");\n",
              "// you may not use this file except in compliance with the License.\n",
              "// You may obtain a copy of the License at\n",
              "//\n",
              "//      http://www.apache.org/licenses/LICENSE-2.0\n",
              "//\n",
              "// Unless required by applicable law or agreed to in writing, software\n",
              "// distributed under the License is distributed on an \"AS IS\" BASIS,\n",
              "// WITHOUT WARRANTIES OR CONDITIONS OF ANY KIND, either express or implied.\n",
              "// See the License for the specific language governing permissions and\n",
              "// limitations under the License.\n",
              "\n",
              "/**\n",
              " * @fileoverview Helpers for google.colab Python module.\n",
              " */\n",
              "(function(scope) {\n",
              "function span(text, styleAttributes = {}) {\n",
              "  const element = document.createElement('span');\n",
              "  element.textContent = text;\n",
              "  for (const key of Object.keys(styleAttributes)) {\n",
              "    element.style[key] = styleAttributes[key];\n",
              "  }\n",
              "  return element;\n",
              "}\n",
              "\n",
              "// Max number of bytes which will be uploaded at a time.\n",
              "const MAX_PAYLOAD_SIZE = 100 * 1024;\n",
              "\n",
              "function _uploadFiles(inputId, outputId) {\n",
              "  const steps = uploadFilesStep(inputId, outputId);\n",
              "  const outputElement = document.getElementById(outputId);\n",
              "  // Cache steps on the outputElement to make it available for the next call\n",
              "  // to uploadFilesContinue from Python.\n",
              "  outputElement.steps = steps;\n",
              "\n",
              "  return _uploadFilesContinue(outputId);\n",
              "}\n",
              "\n",
              "// This is roughly an async generator (not supported in the browser yet),\n",
              "// where there are multiple asynchronous steps and the Python side is going\n",
              "// to poll for completion of each step.\n",
              "// This uses a Promise to block the python side on completion of each step,\n",
              "// then passes the result of the previous step as the input to the next step.\n",
              "function _uploadFilesContinue(outputId) {\n",
              "  const outputElement = document.getElementById(outputId);\n",
              "  const steps = outputElement.steps;\n",
              "\n",
              "  const next = steps.next(outputElement.lastPromiseValue);\n",
              "  return Promise.resolve(next.value.promise).then((value) => {\n",
              "    // Cache the last promise value to make it available to the next\n",
              "    // step of the generator.\n",
              "    outputElement.lastPromiseValue = value;\n",
              "    return next.value.response;\n",
              "  });\n",
              "}\n",
              "\n",
              "/**\n",
              " * Generator function which is called between each async step of the upload\n",
              " * process.\n",
              " * @param {string} inputId Element ID of the input file picker element.\n",
              " * @param {string} outputId Element ID of the output display.\n",
              " * @return {!Iterable<!Object>} Iterable of next steps.\n",
              " */\n",
              "function* uploadFilesStep(inputId, outputId) {\n",
              "  const inputElement = document.getElementById(inputId);\n",
              "  inputElement.disabled = false;\n",
              "\n",
              "  const outputElement = document.getElementById(outputId);\n",
              "  outputElement.innerHTML = '';\n",
              "\n",
              "  const pickedPromise = new Promise((resolve) => {\n",
              "    inputElement.addEventListener('change', (e) => {\n",
              "      resolve(e.target.files);\n",
              "    });\n",
              "  });\n",
              "\n",
              "  const cancel = document.createElement('button');\n",
              "  inputElement.parentElement.appendChild(cancel);\n",
              "  cancel.textContent = 'Cancel upload';\n",
              "  const cancelPromise = new Promise((resolve) => {\n",
              "    cancel.onclick = () => {\n",
              "      resolve(null);\n",
              "    };\n",
              "  });\n",
              "\n",
              "  // Wait for the user to pick the files.\n",
              "  const files = yield {\n",
              "    promise: Promise.race([pickedPromise, cancelPromise]),\n",
              "    response: {\n",
              "      action: 'starting',\n",
              "    }\n",
              "  };\n",
              "\n",
              "  cancel.remove();\n",
              "\n",
              "  // Disable the input element since further picks are not allowed.\n",
              "  inputElement.disabled = true;\n",
              "\n",
              "  if (!files) {\n",
              "    return {\n",
              "      response: {\n",
              "        action: 'complete',\n",
              "      }\n",
              "    };\n",
              "  }\n",
              "\n",
              "  for (const file of files) {\n",
              "    const li = document.createElement('li');\n",
              "    li.append(span(file.name, {fontWeight: 'bold'}));\n",
              "    li.append(span(\n",
              "        `(${file.type || 'n/a'}) - ${file.size} bytes, ` +\n",
              "        `last modified: ${\n",
              "            file.lastModifiedDate ? file.lastModifiedDate.toLocaleDateString() :\n",
              "                                    'n/a'} - `));\n",
              "    const percent = span('0% done');\n",
              "    li.appendChild(percent);\n",
              "\n",
              "    outputElement.appendChild(li);\n",
              "\n",
              "    const fileDataPromise = new Promise((resolve) => {\n",
              "      const reader = new FileReader();\n",
              "      reader.onload = (e) => {\n",
              "        resolve(e.target.result);\n",
              "      };\n",
              "      reader.readAsArrayBuffer(file);\n",
              "    });\n",
              "    // Wait for the data to be ready.\n",
              "    let fileData = yield {\n",
              "      promise: fileDataPromise,\n",
              "      response: {\n",
              "        action: 'continue',\n",
              "      }\n",
              "    };\n",
              "\n",
              "    // Use a chunked sending to avoid message size limits. See b/62115660.\n",
              "    let position = 0;\n",
              "    do {\n",
              "      const length = Math.min(fileData.byteLength - position, MAX_PAYLOAD_SIZE);\n",
              "      const chunk = new Uint8Array(fileData, position, length);\n",
              "      position += length;\n",
              "\n",
              "      const base64 = btoa(String.fromCharCode.apply(null, chunk));\n",
              "      yield {\n",
              "        response: {\n",
              "          action: 'append',\n",
              "          file: file.name,\n",
              "          data: base64,\n",
              "        },\n",
              "      };\n",
              "\n",
              "      let percentDone = fileData.byteLength === 0 ?\n",
              "          100 :\n",
              "          Math.round((position / fileData.byteLength) * 100);\n",
              "      percent.textContent = `${percentDone}% done`;\n",
              "\n",
              "    } while (position < fileData.byteLength);\n",
              "  }\n",
              "\n",
              "  // All done.\n",
              "  yield {\n",
              "    response: {\n",
              "      action: 'complete',\n",
              "    }\n",
              "  };\n",
              "}\n",
              "\n",
              "scope.google = scope.google || {};\n",
              "scope.google.colab = scope.google.colab || {};\n",
              "scope.google.colab._files = {\n",
              "  _uploadFiles,\n",
              "  _uploadFilesContinue,\n",
              "};\n",
              "})(self);\n",
              "</script> "
            ]
          },
          "metadata": {}
        },
        {
          "output_type": "stream",
          "name": "stdout",
          "text": [
            "Saving balanced_star_classification.csv to balanced_star_classification.csv\n"
          ]
        }
      ],
      "source": [
        "\n",
        "# Upload a correct file from your local machine\n",
        "from io import BytesIO\n",
        "from google.colab import files\n",
        "uploaded_file = files.upload()\n",
        "for name in uploaded_file.keys():\n",
        "    filename = name\n",
        "data = BytesIO(uploaded_file[filename])\n"
      ]
    },
    {
      "cell_type": "code",
      "execution_count": null,
      "id": "d0be4fe6",
      "metadata": {
        "id": "d0be4fe6"
      },
      "outputs": [],
      "source": [
        "\n",
        "# Launch FE\n",
        "launch_fe(data)\n"
      ]
    },
    {
      "cell_type": "code",
      "execution_count": null,
      "id": "7854b5f8",
      "metadata": {
        "id": "7854b5f8"
      },
      "outputs": [],
      "source": [
        "\n",
        "# import the library of the algorithm\n",
        "from sklearn.ensemble import RandomForestClassifier\n",
        "\n",
        "# Initialize hyperparams\n",
        "max_depth = None\n",
        "n_estimators = 15\n",
        "\n",
        "# Initialize the algorithm\n",
        "model = RandomForestClassifier(max_depth=max_depth, random_state=0, n_estimators=n_estimators)\n"
      ]
    },
    {
      "cell_type": "code",
      "execution_count": null,
      "id": "972cdb4c",
      "metadata": {
        "id": "972cdb4c",
        "colab": {
          "base_uri": "https://localhost:8080/"
        },
        "outputId": "c155588f-6529-49d3-8dea-3932d0e485c0"
      },
      "outputs": [
        {
          "output_type": "execute_result",
          "data": {
            "text/plain": [
              "RandomForestClassifier(n_estimators=15, random_state=0)"
            ]
          },
          "metadata": {},
          "execution_count": 6
        }
      ],
      "source": [
        "\n",
        "import pandas as pd\n",
        "# Load the test and train datasets\n",
        "train = pd.read_csv('train.csv', skipinitialspace=True, header=None)\n",
        "test = pd.read_csv('test.csv', skipinitialspace=True, header=None)\n",
        "# Train the algorithm\n",
        "model.fit(train.iloc[:,1:], train.iloc[:,0])\n"
      ]
    },
    {
      "cell_type": "code",
      "execution_count": null,
      "id": "ae48be8a",
      "metadata": {
        "id": "ae48be8a"
      },
      "outputs": [],
      "source": [
        "def encode_confusion_matrix(confusion_matrix):\n",
        "    import pickle\n",
        "    encoded_matrix = dict()\n",
        "    object_name = get_model_id()\n",
        "    file_name = open(object_name, 'rb')\n",
        "    dict_encoding = pickle.load(file_name)\n",
        "    labels = list(dict_encoding.values())[0]\n",
        "    for row_indx, row in enumerate(confusion_matrix):\n",
        "        encoded_matrix[labels[row_indx]] = {}\n",
        "        for item_indx, item in enumerate(row):\n",
        "            encoded_matrix[labels[row_indx]][labels[item_indx]] = item\n",
        "    return encoded_matrix\n"
      ]
    },
    {
      "cell_type": "code",
      "source": [
        "from sklearn.ensemble import RandomForestClassifier\n",
        "import pandas as pd\n",
        "train = pd.read_csv('train.csv', skipinitialspace=True,header=None)\n",
        "test = pd.read_csv('test.csv', skipinitialspace=True,header=None)\n",
        "list_tree = [1,10,50,100,200,300]\n",
        "for depth in range(1,9):\n",
        "  for trees in list_tree:\n",
        "    model=RandomForestClassifier(max_depth=depth)\n",
        "    model.fit(train.iloc[:,1:],train.iloc[:,0])\n",
        "    score = model.score(test.iloc[:,1:],test.iloc[:,0])\n",
        "    acuraccy = score*100\n",
        "    print('Accuracy of the model:', acuraccy, 'For depth:', depth, 'Number of Trees:',trees)"
      ],
      "metadata": {
        "colab": {
          "base_uri": "https://localhost:8080/"
        },
        "id": "V87aKp6EbtYr",
        "outputId": "d3ce9037-f099-45f5-af80-6c27831204b5"
      },
      "id": "V87aKp6EbtYr",
      "execution_count": null,
      "outputs": [
        {
          "output_type": "stream",
          "name": "stdout",
          "text": [
            "Accuracy of the model: 81.91087281357125 For depth: 1 Number of Trees: 1\n",
            "Accuracy of the model: 81.89329348685945 For depth: 1 Number of Trees: 10\n",
            "Accuracy of the model: 81.74386920980926 For depth: 1 Number of Trees: 50\n",
            "Accuracy of the model: 82.38551463478949 For depth: 1 Number of Trees: 100\n",
            "Accuracy of the model: 84.00281269227389 For depth: 1 Number of Trees: 200\n",
            "Accuracy of the model: 82.94805308956667 For depth: 1 Number of Trees: 300\n",
            "Accuracy of the model: 87.4835193812077 For depth: 2 Number of Trees: 1\n",
            "Accuracy of the model: 87.31651577744573 For depth: 2 Number of Trees: 10\n",
            "Accuracy of the model: 87.4747297178518 For depth: 2 Number of Trees: 50\n",
            "Accuracy of the model: 87.39562274764876 For depth: 2 Number of Trees: 100\n",
            "Accuracy of the model: 87.44836072778412 For depth: 2 Number of Trees: 200\n",
            "Accuracy of the model: 87.04403621341302 For depth: 2 Number of Trees: 300\n",
            "Accuracy of the model: 91.9047200492221 For depth: 3 Number of Trees: 1\n",
            "Accuracy of the model: 94.01423925463655 For depth: 3 Number of Trees: 10\n",
            "Accuracy of the model: 92.82763470159094 For depth: 3 Number of Trees: 50\n",
            "Accuracy of the model: 93.34622483958864 For depth: 3 Number of Trees: 100\n",
            "Accuracy of the model: 93.06495561220005 For depth: 3 Number of Trees: 200\n",
            "Accuracy of the model: 93.2583282060297 For depth: 3 Number of Trees: 300\n",
            "Accuracy of the model: 94.3394567988046 For depth: 4 Number of Trees: 1\n",
            "Accuracy of the model: 94.72620198646392 For depth: 4 Number of Trees: 10\n",
            "Accuracy of the model: 94.95473323371715 For depth: 4 Number of Trees: 50\n",
            "Accuracy of the model: 93.98787026456887 For depth: 4 Number of Trees: 100\n",
            "Accuracy of the model: 95.1656851542586 For depth: 4 Number of Trees: 200\n",
            "Accuracy of the model: 94.55040871934605 For depth: 4 Number of Trees: 300\n",
            "Accuracy of the model: 95.5612200052738 For depth: 5 Number of Trees: 1\n",
            "Accuracy of the model: 95.71064428232398 For depth: 5 Number of Trees: 10\n",
            "Accuracy of the model: 95.65790630218862 For depth: 5 Number of Trees: 50\n",
            "Accuracy of the model: 95.6930649556122 For depth: 5 Number of Trees: 100\n",
            "Accuracy of the model: 95.80733057923881 For depth: 5 Number of Trees: 200\n",
            "Accuracy of the model: 95.78096158917113 For depth: 5 Number of Trees: 300\n",
            "Accuracy of the model: 96.19407576689812 For depth: 6 Number of Trees: 1\n",
            "Accuracy of the model: 96.20286543025402 For depth: 6 Number of Trees: 10\n",
            "Accuracy of the model: 96.34350004394831 For depth: 6 Number of Trees: 50\n",
            "Accuracy of the model: 96.17649644018634 For depth: 6 Number of Trees: 100\n",
            "Accuracy of the model: 96.15012745011866 For depth: 6 Number of Trees: 200\n",
            "Accuracy of the model: 96.39623802408369 For depth: 6 Number of Trees: 300\n",
            "Accuracy of the model: 96.87087984530193 For depth: 7 Number of Trees: 1\n",
            "Accuracy of the model: 96.85330051859013 For depth: 7 Number of Trees: 10\n",
            "Accuracy of the model: 96.92361782543728 For depth: 7 Number of Trees: 50\n",
            "Accuracy of the model: 96.78298321174299 For depth: 7 Number of Trees: 100\n",
            "Accuracy of the model: 96.67750725147228 For depth: 7 Number of Trees: 200\n",
            "Accuracy of the model: 96.7741935483871 For depth: 7 Number of Trees: 300\n",
            "Accuracy of the model: 97.1785180627582 For depth: 8 Number of Trees: 1\n",
            "Accuracy of the model: 97.09941109255516 For depth: 8 Number of Trees: 10\n",
            "Accuracy of the model: 97.00272479564033 For depth: 8 Number of Trees: 50\n",
            "Accuracy of the model: 97.01151445899622 For depth: 8 Number of Trees: 100\n",
            "Accuracy of the model: 97.12578008262284 For depth: 8 Number of Trees: 200\n",
            "Accuracy of the model: 97.13456974597872 For depth: 8 Number of Trees: 300\n"
          ]
        }
      ]
    },
    {
      "cell_type": "code",
      "source": [
        "y_pred = model.predict(test.iloc[:,1:])\n",
        "# import the library to calculate confusion_matrix\n",
        "from sklearn.metrics import confusion_matrix\n",
        "# calculate confusion matrix\n",
        "confusion_matrix = confusion_matrix(test.iloc[:,0], y_pred)\n",
        "print(confusion_matrix)"
      ],
      "metadata": {
        "colab": {
          "base_uri": "https://localhost:8080/"
        },
        "id": "3D3PI42LxW9u",
        "outputId": "3d4f6b1c-cf87-423a-91b5-2b236fd95caa"
      },
      "id": "3D3PI42LxW9u",
      "execution_count": null,
      "outputs": [
        {
          "output_type": "stream",
          "name": "stdout",
          "text": [
            "[[3726  105   23]\n",
            " [ 162 3648    1]\n",
            " [   2    0 3710]]\n"
          ]
        }
      ]
    },
    {
      "cell_type": "code",
      "source": [
        "import pickle \n",
        "import pandas as pd\n",
        "from google.colab import drive\n",
        "drive.mount('/content/drive')\n",
        "from sklearn.ensemble import RandomForestClassifier\n",
        "\n",
        "train = pd.read_csv('train.csv', skipinitialspace=True, header=None)\n",
        "model = RandomForestClassifier(max_depth=8,n_estimators=200,random_state=0)\n",
        "model.fit(train.iloc[:,1:],train.iloc[:,0])\n",
        "model_name = \"/content/drive/Shareddrives/1:1DivyaKrishna/Models/randomforest_final_model/model\"\n",
        "fh = open(model_name,'wb')\n",
        "pickle.dump(model,fh)\n",
        "fh.close()"
      ],
      "metadata": {
        "colab": {
          "base_uri": "https://localhost:8080/",
          "height": 389
        },
        "id": "1Dd_BoUW4dHU",
        "outputId": "2d00aa10-75a6-4d09-d2b2-825c48236b4a"
      },
      "id": "1Dd_BoUW4dHU",
      "execution_count": null,
      "outputs": [
        {
          "output_type": "error",
          "ename": "MessageError",
          "evalue": "ignored",
          "traceback": [
            "\u001b[0;31m---------------------------------------------------------------------------\u001b[0m",
            "\u001b[0;31mMessageError\u001b[0m                              Traceback (most recent call last)",
            "\u001b[0;32m<ipython-input-9-046fed3026aa>\u001b[0m in \u001b[0;36m<module>\u001b[0;34m\u001b[0m\n\u001b[1;32m      2\u001b[0m \u001b[0;32mimport\u001b[0m \u001b[0mpandas\u001b[0m \u001b[0;32mas\u001b[0m \u001b[0mpd\u001b[0m\u001b[0;34m\u001b[0m\u001b[0;34m\u001b[0m\u001b[0m\n\u001b[1;32m      3\u001b[0m \u001b[0;32mfrom\u001b[0m \u001b[0mgoogle\u001b[0m\u001b[0;34m.\u001b[0m\u001b[0mcolab\u001b[0m \u001b[0;32mimport\u001b[0m \u001b[0mdrive\u001b[0m\u001b[0;34m\u001b[0m\u001b[0;34m\u001b[0m\u001b[0m\n\u001b[0;32m----> 4\u001b[0;31m \u001b[0mdrive\u001b[0m\u001b[0;34m.\u001b[0m\u001b[0mmount\u001b[0m\u001b[0;34m(\u001b[0m\u001b[0;34m'/content/drive'\u001b[0m\u001b[0;34m)\u001b[0m\u001b[0;34m\u001b[0m\u001b[0;34m\u001b[0m\u001b[0m\n\u001b[0m\u001b[1;32m      5\u001b[0m \u001b[0;32mfrom\u001b[0m \u001b[0msklearn\u001b[0m\u001b[0;34m.\u001b[0m\u001b[0mensemble\u001b[0m \u001b[0;32mimport\u001b[0m \u001b[0mRandomForestClassifier\u001b[0m\u001b[0;34m\u001b[0m\u001b[0;34m\u001b[0m\u001b[0m\n\u001b[1;32m      6\u001b[0m \u001b[0;34m\u001b[0m\u001b[0m\n",
            "\u001b[0;32m/usr/local/lib/python3.8/dist-packages/google/colab/drive.py\u001b[0m in \u001b[0;36mmount\u001b[0;34m(mountpoint, force_remount, timeout_ms, readonly)\u001b[0m\n\u001b[1;32m     99\u001b[0m \u001b[0;32mdef\u001b[0m \u001b[0mmount\u001b[0m\u001b[0;34m(\u001b[0m\u001b[0mmountpoint\u001b[0m\u001b[0;34m,\u001b[0m \u001b[0mforce_remount\u001b[0m\u001b[0;34m=\u001b[0m\u001b[0;32mFalse\u001b[0m\u001b[0;34m,\u001b[0m \u001b[0mtimeout_ms\u001b[0m\u001b[0;34m=\u001b[0m\u001b[0;36m120000\u001b[0m\u001b[0;34m,\u001b[0m \u001b[0mreadonly\u001b[0m\u001b[0;34m=\u001b[0m\u001b[0;32mFalse\u001b[0m\u001b[0;34m)\u001b[0m\u001b[0;34m:\u001b[0m\u001b[0;34m\u001b[0m\u001b[0;34m\u001b[0m\u001b[0m\n\u001b[1;32m    100\u001b[0m   \u001b[0;34m\"\"\"Mount your Google Drive at the specified mountpoint path.\"\"\"\u001b[0m\u001b[0;34m\u001b[0m\u001b[0;34m\u001b[0m\u001b[0m\n\u001b[0;32m--> 101\u001b[0;31m   return _mount(\n\u001b[0m\u001b[1;32m    102\u001b[0m       \u001b[0mmountpoint\u001b[0m\u001b[0;34m,\u001b[0m\u001b[0;34m\u001b[0m\u001b[0;34m\u001b[0m\u001b[0m\n\u001b[1;32m    103\u001b[0m       \u001b[0mforce_remount\u001b[0m\u001b[0;34m=\u001b[0m\u001b[0mforce_remount\u001b[0m\u001b[0;34m,\u001b[0m\u001b[0;34m\u001b[0m\u001b[0;34m\u001b[0m\u001b[0m\n",
            "\u001b[0;32m/usr/local/lib/python3.8/dist-packages/google/colab/drive.py\u001b[0m in \u001b[0;36m_mount\u001b[0;34m(mountpoint, force_remount, timeout_ms, ephemeral, readonly)\u001b[0m\n\u001b[1;32m    122\u001b[0m       'TBE_EPHEM_CREDS_ADDR'] if ephemeral else _os.environ['TBE_CREDS_ADDR']\n\u001b[1;32m    123\u001b[0m   \u001b[0;32mif\u001b[0m \u001b[0mephemeral\u001b[0m\u001b[0;34m:\u001b[0m\u001b[0;34m\u001b[0m\u001b[0;34m\u001b[0m\u001b[0m\n\u001b[0;32m--> 124\u001b[0;31m     _message.blocking_request(\n\u001b[0m\u001b[1;32m    125\u001b[0m         'request_auth', request={'authType': 'dfs_ephemeral'}, timeout_sec=None)\n\u001b[1;32m    126\u001b[0m \u001b[0;34m\u001b[0m\u001b[0m\n",
            "\u001b[0;32m/usr/local/lib/python3.8/dist-packages/google/colab/_message.py\u001b[0m in \u001b[0;36mblocking_request\u001b[0;34m(request_type, request, timeout_sec, parent)\u001b[0m\n\u001b[1;32m    169\u001b[0m   request_id = send_request(\n\u001b[1;32m    170\u001b[0m       request_type, request, parent=parent, expect_reply=True)\n\u001b[0;32m--> 171\u001b[0;31m   \u001b[0;32mreturn\u001b[0m \u001b[0mread_reply_from_input\u001b[0m\u001b[0;34m(\u001b[0m\u001b[0mrequest_id\u001b[0m\u001b[0;34m,\u001b[0m \u001b[0mtimeout_sec\u001b[0m\u001b[0;34m)\u001b[0m\u001b[0;34m\u001b[0m\u001b[0;34m\u001b[0m\u001b[0m\n\u001b[0m",
            "\u001b[0;32m/usr/local/lib/python3.8/dist-packages/google/colab/_message.py\u001b[0m in \u001b[0;36mread_reply_from_input\u001b[0;34m(message_id, timeout_sec)\u001b[0m\n\u001b[1;32m    100\u001b[0m         reply.get('colab_msg_id') == message_id):\n\u001b[1;32m    101\u001b[0m       \u001b[0;32mif\u001b[0m \u001b[0;34m'error'\u001b[0m \u001b[0;32min\u001b[0m \u001b[0mreply\u001b[0m\u001b[0;34m:\u001b[0m\u001b[0;34m\u001b[0m\u001b[0;34m\u001b[0m\u001b[0m\n\u001b[0;32m--> 102\u001b[0;31m         \u001b[0;32mraise\u001b[0m \u001b[0mMessageError\u001b[0m\u001b[0;34m(\u001b[0m\u001b[0mreply\u001b[0m\u001b[0;34m[\u001b[0m\u001b[0;34m'error'\u001b[0m\u001b[0;34m]\u001b[0m\u001b[0;34m)\u001b[0m\u001b[0;34m\u001b[0m\u001b[0;34m\u001b[0m\u001b[0m\n\u001b[0m\u001b[1;32m    103\u001b[0m       \u001b[0;32mreturn\u001b[0m \u001b[0mreply\u001b[0m\u001b[0;34m.\u001b[0m\u001b[0mget\u001b[0m\u001b[0;34m(\u001b[0m\u001b[0;34m'data'\u001b[0m\u001b[0;34m,\u001b[0m \u001b[0;32mNone\u001b[0m\u001b[0;34m)\u001b[0m\u001b[0;34m\u001b[0m\u001b[0;34m\u001b[0m\u001b[0m\n\u001b[1;32m    104\u001b[0m \u001b[0;34m\u001b[0m\u001b[0m\n",
            "\u001b[0;31mMessageError\u001b[0m: Error: credential propagation was unsuccessful"
          ]
        }
      ]
    },
    {
      "cell_type": "code",
      "source": [
        "from sklearn.metrics import accuracy_score, f1_score\n",
        "sortedlabels=model.classes_\n",
        "cm = pd.DataFrame(confusion_matrix, index=sortedlabels, columns=sortedlabels)\n",
        "import seaborn as sns\n",
        "import matplotlib.pyplot as plt\n",
        "sns.set(font_scale=1.2)\n",
        "x_axis_labels = [\"GALAXY\",\"QSO\",\"STAR\"] # labels for x-axis\n",
        "y_axis_labels = [\"GALAXY\",\"QSO\",\"STAR\"] # labels for y-axis\n",
        "sns.heatmap(cm,linewidths=0.5,cmap=sns.light_palette((1,0.2,0.6), n_colors=10000), fmt='g',xticklabels=x_axis_labels, yticklabels=y_axis_labels, annot=True)\n",
        "plt.xlabel('Predicted')\n",
        "plt.ylabel('True')"
      ],
      "metadata": {
        "colab": {
          "base_uri": "https://localhost:8080/",
          "height": 307
        },
        "id": "0iaw3ekw60vk",
        "outputId": "f0a7fd02-b8f5-4185-904b-eaae87a6c321"
      },
      "id": "0iaw3ekw60vk",
      "execution_count": null,
      "outputs": [
        {
          "output_type": "execute_result",
          "data": {
            "text/plain": [
              "Text(27.499999999999996, 0.5, 'True')"
            ]
          },
          "metadata": {},
          "execution_count": 11
        },
        {
          "output_type": "display_data",
          "data": {
            "text/plain": [
              "<Figure size 432x288 with 2 Axes>"
            ],
            "image/png": "[encoded data removed]"
          },
          "metadata": {}
        }
      ]
    },
    {
      "cell_type": "code",
      "execution_count": null,
      "id": "59e96620",
      "metadata": {
        "id": "59e96620",
        "colab": {
          "base_uri": "https://localhost:8080/"
        },
        "outputId": "55d4cf62-0da0-44bd-ded4-034080a85986"
      },
      "outputs": [
        {
          "output_type": "stream",
          "name": "stdout",
          "text": [
            "Confusion matrix of the model is:  {'GALAXY': {'GALAXY': 3688, 'QSO': 141, 'STAR': 25}, 'QSO': {'GALAXY': 165, 'QSO': 3645, 'STAR': 1}, 'STAR': {'GALAXY': 0, 'QSO': 0, 'STAR': 3712}}\n",
            "Accuracy of the model is:  97.08183176584336\n"
          ]
        }
      ],
      "source": [
        "\n",
        "# Predict the class labels\n",
        "y_pred = model.predict(test.iloc[:,1:])\n",
        "# import the library to calculate confusion_matrix\n",
        "from sklearn.metrics import confusion_matrix\n",
        "# calculate confusion matrix\n",
        "confusion_matrix = confusion_matrix(test.iloc[:,0], y_pred)\n",
        "encoded_matrix = encode_confusion_matrix(confusion_matrix)\n",
        "print('Confusion matrix of the model is: ', encoded_matrix)\n",
        "# calculate accuracy\n",
        "score = model.score(test.iloc[:, 1:], test.iloc[:, 0])\n",
        "# The value is returned as a decimal value between 0 and 1\n",
        "# converting to percentage\n",
        "accuracy = score * 100\n",
        "print('Accuracy of the model is: ', accuracy)\n"
      ]
    },
    {
      "cell_type": "code",
      "execution_count": null,
      "id": "73d7969c",
      "metadata": {
        "id": "73d7969c",
        "colab": {
          "base_uri": "https://localhost:8080/"
        },
        "outputId": "2bf2d85c-f5e6-45ad-f833-0942fa9ae21a"
      },
      "outputs": [
        {
          "output_type": "stream",
          "name": "stdout",
          "text": [
            "Below is the prediction stage of the AI\n"
          ]
        }
      ],
      "source": [
        "\n",
        "# fe_transform function traansforms raw data into a form the model can consume\n",
        "print('Below is the prediction stage of the AI')\n",
        "def fe_transform(data_dict, object_path=None):\n",
        "    import os\n",
        "    import pandas as pd\n",
        "    from io import StringIO\n",
        "    import json\n",
        "    from sklearn.model_selection import train_test_split\n",
        "    from sklearn.feature_extraction.text import CountVectorizer\n",
        "    from sklearn.feature_extraction.text import TfidfVectorizer\n",
        "    from sklearn.impute import SimpleImputer\n",
        "    from sklearn.preprocessing import OneHotEncoder\n",
        "    from sklearn.feature_extraction import text\n",
        "    import pickle\n",
        "    from scipy import sparse\n",
        "    \n",
        "    dataset = pd.DataFrame([data_dict])\n",
        "\n",
        "    return dataset\n",
        "def encode_label_transform_predict(prediction):\n",
        "    import pickle\n",
        "    encoded_prediction = prediction\n",
        "    label = \"class\"\n",
        "    object_name = \"b1c88cfe-2098-49e1-8616-f454912c3ab5\"\n",
        "    file_name = open(object_name, 'rb')\n",
        "    dict_encoding = pickle.load(file_name)\n",
        "    label_name = list(dict_encoding.keys())[0]\n",
        "    encoded_prediction = \\\n",
        "        dict_encoding[label_name][int(prediction)]\n",
        "    print(encoded_prediction)\n",
        "def get_labels(object_path=None):\n",
        "    label_names = []\n",
        "    label_name = list(dict_encoding.keys())[0]\n",
        "    label_values_dict = dict_encoding[label_name]\n",
        "    for key, value in label_values_dict.items():\n",
        "        label_names.append(str(value))\n"
      ]
    },
    {
      "cell_type": "code",
      "execution_count": null,
      "id": "aea06196",
      "metadata": {
        "id": "aea06196",
        "colab": {
          "base_uri": "https://localhost:8080/"
        },
        "outputId": "77df4983-89d5-4a48-ff5f-1d738b388cca"
      },
      "outputs": [
        {
          "output_type": "stream",
          "name": "stdout",
          "text": [
            "QSO\n"
          ]
        },
        {
          "output_type": "stream",
          "name": "stderr",
          "text": [
            "/usr/local/lib/python3.8/dist-packages/sklearn/base.py:443: UserWarning: X has feature names, but RandomForestClassifier was fitted without feature names\n",
            "  warnings.warn(\n"
          ]
        }
      ],
      "source": [
        "\n",
        "test_sample = {'obj_ID': 1.23766323632518e+18, 'alpha': 180.00266879944, 'delta': 32.6821601350916, 'u': -4983.109305, 'g': -4983.69888, 'r': 19.59809, 'i': 20.8056865, 'z': -4985.104725, 'run_ID': 4135.5, 'rerun_ID': 301, 'cam_col': 4, 'field_ID': 500.0, 'spec_obj_ID': 7.213259948368224e+18, 'redshift': 3.5021909085, 'plate': 6406.5, 'MJD': 55270.0, 'fiber_ID': 500.5}\n",
        "# Call FE on test_sample\n",
        "test_sample_modified = fe_transform(test_sample)\n",
        "# Make a prediction\n",
        "prediction = model.predict(test_sample_modified)\n",
        "encode_label_transform_predict(prediction)\n"
      ]
    }
  ],
  "metadata": {
    "colab": {
      "provenance": []
    },
    "language_info": {
      "name": "python"
    },
    "kernelspec": {
      "name": "python3",
      "display_name": "Python 3"
    },
    "gpuClass": "standard"
  },
  "nbformat": 4,
  "nbformat_minor": 5
}