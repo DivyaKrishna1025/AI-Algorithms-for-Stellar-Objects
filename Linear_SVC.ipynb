{
  "cells": [
    {
      "cell_type": "code",
      "source": [
        "import matplotlib.pyplot as plt\n",
        "fig = plt.figure()\n",
        "ax = fig.add_axes([0,0,1,1])\n",
        "langs = ['GALAXY', 'STAR', 'QSO']\n",
        "students = [59445, 21594, 18691]\n",
        "plt.title('Unbalanced Dataset')\n",
        "plt.xlabel('Class')\n",
        "plt.ylabel('Samples of class')\n",
        "ax.bar(langs,students,color='purple')\n",
        "plt.show()"
      ],
      "metadata": {
        "colab": {
          "base_uri": "https://localhost:8080/",
          "height": 366
        },
        "id": "DHNULqjH8Ygt",
        "outputId": "6ae5aae8-4d3a-42b1-f8ef-f7372d875983"
      },
      "id": "DHNULqjH8Ygt",
      "execution_count": null,
      "outputs": [
        {
          "output_type": "display_data",
          "data": {
            "text/plain": [
              "<Figure size 432x288 with 1 Axes>"
            ],
            "image/png": "[encoded data removed]"
          },
          "metadata": {
            "needs_background": "light"
          }
        }
      ]
    },
    {
      "cell_type": "code",
      "execution_count": null,
      "id": "e15afef4",
      "metadata": {
        "id": "e15afef4"
      },
      "outputs": [],
      "source": [
        "def launch_fe(data):\n",
        "    import os\n",
        "    import pandas as pd\n",
        "    from io import StringIO\n",
        "    import json\n",
        "    from sklearn.model_selection import train_test_split\n",
        "    from sklearn.feature_extraction.text import CountVectorizer\n",
        "    from sklearn.feature_extraction.text import TfidfVectorizer\n",
        "    from sklearn.impute import SimpleImputer\n",
        "    from sklearn.preprocessing import OneHotEncoder\n",
        "    from sklearn.feature_extraction import text\n",
        "    import pickle\n",
        "    from scipy import sparse\n",
        "    MAX_TEXT_FEATURES = 200\n",
        "    columns_list = [\"rerun_ID\", \"cam_col\", \"class\", \"obj_ID\", \"alpha\", \"delta\", \"u\", \"g\", \"r\", \"i\", \"z\", \"run_ID\", \"field_ID\", \"spec_obj_ID\", \"redshift\", \"plate\", \"MJD\", \"fiber_ID\"]\n",
        "\n",
        "    dataset = pd.read_csv(data, skipinitialspace=True)\n",
        "    num_samples = len(dataset)\n",
        "\n",
        "    # Encode labels into numbers starting with 0\n",
        "    label = \"class\"\n",
        "    tmpCol = dataset[label].astype('category')\n",
        "    dict_encoding = { label: dict(enumerate(tmpCol.cat.categories))}\n",
        "    # Save the model\n",
        "    model_name = \"c50fd75e-d6ab-4542-a28a-0725ea220672\"\n",
        "    fh = open(model_name, \"wb\")\n",
        "    pickle.dump(dict_encoding, fh)\n",
        "    fh.close()\n",
        "\n",
        "    label = \"class\"\n",
        "    dataset[label] = tmpCol.cat.codes\n",
        "\n",
        "    # Move the label column\n",
        "    cols = list(dataset.columns)\n",
        "    colIdx = dataset.columns.get_loc(\"class\")\n",
        "    # Do nothing if the label is in the 0th position\n",
        "    # Otherwise, change the order of columns to move label to 0th position\n",
        "    if colIdx != 0:\n",
        "        cols = cols[colIdx:colIdx+1] + cols[0:colIdx] + cols[colIdx+1:]\n",
        "        dataset = dataset[cols]\n",
        "\n",
        "    # split dataset into train and test\n",
        "    train, test = train_test_split(dataset, test_size=0.2, random_state=42)\n",
        "\n",
        "    # Write train and test csv\n",
        "    train.to_csv('train.csv', index=False, header=False)\n",
        "    test.to_csv('test.csv', index=False, header=False)\n",
        "    column_names = list(train.columns)\n",
        "def get_model_id():\n",
        "    return \"c50fd75e-d6ab-4542-a28a-0725ea220672\"\n"
      ]
    },
    {
      "cell_type": "code",
      "execution_count": null,
      "id": "5bf354bf",
      "metadata": {
        "id": "5bf354bf",
        "outputId": "df7059d0-24d3-4ca9-8986-9ca3422f4099",
        "colab": {
          "base_uri": "https://localhost:8080/",
          "height": 74
        }
      },
      "outputs": [
        {
          "output_type": "display_data",
          "data": {
            "text/plain": [
              "<IPython.core.display.HTML object>"
            ],
            "text/html": [
              "\n",
              "     <input type=\"file\" id=\"files-a88af91d-087c-453b-ac34-22056ac7d40a\" name=\"files[]\" multiple disabled\n",
              "        style=\"border:none\" />\n",
              "     <output id=\"result-a88af91d-087c-453b-ac34-22056ac7d40a\">\n",
              "      Upload widget is only available when the cell has been executed in the\n",
              "      current browser session. Please rerun this cell to enable.\n",
              "      </output>\n",
              "      <script>// Copyright 2017 Google LLC\n",
              "//\n",
              "// Licensed under the Apache License, Version 2.0 (the \"License\");\n",
              "// you may not use this file except in compliance with the License.\n",
              "// You may obtain a copy of the License at\n",
              "//\n",
              "//      http://www.apache.org/licenses/LICENSE-2.0\n",
              "//\n",
              "// Unless required by applicable law or agreed to in writing, software\n",
              "// distributed under the License is distributed on an \"AS IS\" BASIS,\n",
              "// WITHOUT WARRANTIES OR CONDITIONS OF ANY KIND, either express or implied.\n",
              "// See the License for the specific language governing permissions and\n",
              "// limitations under the License.\n",
              "\n",
              "/**\n",
              " * @fileoverview Helpers for google.colab Python module.\n",
              " */\n",
              "(function(scope) {\n",
              "function span(text, styleAttributes = {}) {\n",
              "  const element = document.createElement('span');\n",
              "  element.textContent = text;\n",
              "  for (const key of Object.keys(styleAttributes)) {\n",
              "    element.style[key] = styleAttributes[key];\n",
              "  }\n",
              "  return element;\n",
              "}\n",
              "\n",
              "// Max number of bytes which will be uploaded at a time.\n",
              "const MAX_PAYLOAD_SIZE = 100 * 1024;\n",
              "\n",
              "function _uploadFiles(inputId, outputId) {\n",
              "  const steps = uploadFilesStep(inputId, outputId);\n",
              "  const outputElement = document.getElementById(outputId);\n",
              "  // Cache steps on the outputElement to make it available for the next call\n",
              "  // to uploadFilesContinue from Python.\n",
              "  outputElement.steps = steps;\n",
              "\n",
              "  return _uploadFilesContinue(outputId);\n",
              "}\n",
              "\n",
              "// This is roughly an async generator (not supported in the browser yet),\n",
              "// where there are multiple asynchronous steps and the Python side is going\n",
              "// to poll for completion of each step.\n",
              "// This uses a Promise to block the python side on completion of each step,\n",
              "// then passes the result of the previous step as the input to the next step.\n",
              "function _uploadFilesContinue(outputId) {\n",
              "  const outputElement = document.getElementById(outputId);\n",
              "  const steps = outputElement.steps;\n",
              "\n",
              "  const next = steps.next(outputElement.lastPromiseValue);\n",
              "  return Promise.resolve(next.value.promise).then((value) => {\n",
              "    // Cache the last promise value to make it available to the next\n",
              "    // step of the generator.\n",
              "    outputElement.lastPromiseValue = value;\n",
              "    return next.value.response;\n",
              "  });\n",
              "}\n",
              "\n",
              "/**\n",
              " * Generator function which is called between each async step of the upload\n",
              " * process.\n",
              " * @param {string} inputId Element ID of the input file picker element.\n",
              " * @param {string} outputId Element ID of the output display.\n",
              " * @return {!Iterable<!Object>} Iterable of next steps.\n",
              " */\n",
              "function* uploadFilesStep(inputId, outputId) {\n",
              "  const inputElement = document.getElementById(inputId);\n",
              "  inputElement.disabled = false;\n",
              "\n",
              "  const outputElement = document.getElementById(outputId);\n",
              "  outputElement.innerHTML = '';\n",
              "\n",
              "  const pickedPromise = new Promise((resolve) => {\n",
              "    inputElement.addEventListener('change', (e) => {\n",
              "      resolve(e.target.files);\n",
              "    });\n",
              "  });\n",
              "\n",
              "  const cancel = document.createElement('button');\n",
              "  inputElement.parentElement.appendChild(cancel);\n",
              "  cancel.textContent = 'Cancel upload';\n",
              "  const cancelPromise = new Promise((resolve) => {\n",
              "    cancel.onclick = () => {\n",
              "      resolve(null);\n",
              "    };\n",
              "  });\n",
              "\n",
              "  // Wait for the user to pick the files.\n",
              "  const files = yield {\n",
              "    promise: Promise.race([pickedPromise, cancelPromise]),\n",
              "    response: {\n",
              "      action: 'starting',\n",
              "    }\n",
              "  };\n",
              "\n",
              "  cancel.remove();\n",
              "\n",
              "  // Disable the input element since further picks are not allowed.\n",
              "  inputElement.disabled = true;\n",
              "\n",
              "  if (!files) {\n",
              "    return {\n",
              "      response: {\n",
              "        action: 'complete',\n",
              "      }\n",
              "    };\n",
              "  }\n",
              "\n",
              "  for (const file of files) {\n",
              "    const li = document.createElement('li');\n",
              "    li.append(span(file.name, {fontWeight: 'bold'}));\n",
              "    li.append(span(\n",
              "        `(${file.type || 'n/a'}) - ${file.size} bytes, ` +\n",
              "        `last modified: ${\n",
              "            file.lastModifiedDate ? file.lastModifiedDate.toLocaleDateString() :\n",
              "                                    'n/a'} - `));\n",
              "    const percent = span('0% done');\n",
              "    li.appendChild(percent);\n",
              "\n",
              "    outputElement.appendChild(li);\n",
              "\n",
              "    const fileDataPromise = new Promise((resolve) => {\n",
              "      const reader = new FileReader();\n",
              "      reader.onload = (e) => {\n",
              "        resolve(e.target.result);\n",
              "      };\n",
              "      reader.readAsArrayBuffer(file);\n",
              "    });\n",
              "    // Wait for the data to be ready.\n",
              "    let fileData = yield {\n",
              "      promise: fileDataPromise,\n",
              "      response: {\n",
              "        action: 'continue',\n",
              "      }\n",
              "    };\n",
              "\n",
              "    // Use a chunked sending to avoid message size limits. See b/62115660.\n",
              "    let position = 0;\n",
              "    do {\n",
              "      const length = Math.min(fileData.byteLength - position, MAX_PAYLOAD_SIZE);\n",
              "      const chunk = new Uint8Array(fileData, position, length);\n",
              "      position += length;\n",
              "\n",
              "      const base64 = btoa(String.fromCharCode.apply(null, chunk));\n",
              "      yield {\n",
              "        response: {\n",
              "          action: 'append',\n",
              "          file: file.name,\n",
              "          data: base64,\n",
              "        },\n",
              "      };\n",
              "\n",
              "      let percentDone = fileData.byteLength === 0 ?\n",
              "          100 :\n",
              "          Math.round((position / fileData.byteLength) * 100);\n",
              "      percent.textContent = `${percentDone}% done`;\n",
              "\n",
              "    } while (position < fileData.byteLength);\n",
              "  }\n",
              "\n",
              "  // All done.\n",
              "  yield {\n",
              "    response: {\n",
              "      action: 'complete',\n",
              "    }\n",
              "  };\n",
              "}\n",
              "\n",
              "scope.google = scope.google || {};\n",
              "scope.google.colab = scope.google.colab || {};\n",
              "scope.google.colab._files = {\n",
              "  _uploadFiles,\n",
              "  _uploadFilesContinue,\n",
              "};\n",
              "})(self);\n",
              "</script> "
            ]
          },
          "metadata": {}
        },
        {
          "output_type": "stream",
          "name": "stdout",
          "text": [
            "Saving balanced_star_classification.csv to balanced_star_classification.csv\n"
          ]
        }
      ],
      "source": [
        "\n",
        "# Upload a correct file from your local machine\n",
        "from io import BytesIO\n",
        "from google.colab import files\n",
        "uploaded_file = files.upload()\n",
        "for name in uploaded_file.keys():\n",
        "    filename = name\n",
        "data = BytesIO(uploaded_file[filename])\n"
      ]
    },
    {
      "cell_type": "code",
      "execution_count": null,
      "id": "32e0f2a8",
      "metadata": {
        "id": "32e0f2a8"
      },
      "outputs": [],
      "source": [
        "\n",
        "# Launch FE\n",
        "launch_fe(data)\n"
      ]
    },
    {
      "cell_type": "code",
      "execution_count": null,
      "id": "1fa8bd3c",
      "metadata": {
        "id": "1fa8bd3c"
      },
      "outputs": [],
      "source": [
        "\n",
        "# import the library of the algorithm\n",
        "from sklearn.svm import LinearSVC\n",
        "\n",
        "# Initialize hyperparams\n",
        "tol = 1\n",
        "fit_intercept = True\n",
        "max_iter = 100\n",
        "\n",
        "# Initialize the algorithm\n",
        "model = LinearSVC(random_state=0, tol=tol, fit_intercept=fit_intercept, max_iter=max_iter)\n"
      ]
    },
    {
      "cell_type": "code",
      "source": [
        "from sklearn.svm import LinearSVC\n",
        "SVC_hyper_params = [0.01,0.1,1,10]\n",
        "maxiumum_iterations = [1,10,100,10000]\n",
        "for y in maxiumum_iterations:\n",
        "  for x in SVC_hyper_params:\n",
        "    model = LinearSVC(tol=x, max_iter=y)\n",
        "    model.fit(train.iloc[:,1:],train.iloc[:,0])\n",
        "    score = model.score(test.iloc[:,1:],test.iloc[:,0])\n",
        "    acuraccy = score*100\n",
        "    print('Accuracy of the model:', acuraccy, 'For max_iter:', y, 'Tol:',x)"
      ],
      "metadata": {
        "id": "JXxynCQBgdyl",
        "outputId": "954a7ec0-a70c-42ca-d637-e4aa0cc0dd35",
        "colab": {
          "base_uri": "https://localhost:8080/"
        }
      },
      "id": "JXxynCQBgdyl",
      "execution_count": null,
      "outputs": [
        {
          "output_type": "stream",
          "name": "stderr",
          "text": [
            "/usr/local/lib/python3.8/dist-packages/sklearn/svm/_base.py:1206: ConvergenceWarning: Liblinear failed to converge, increase the number of iterations.\n",
            "  warnings.warn(\n",
            "/usr/local/lib/python3.8/dist-packages/sklearn/svm/_base.py:1206: ConvergenceWarning: Liblinear failed to converge, increase the number of iterations.\n",
            "  warnings.warn(\n",
            "/usr/local/lib/python3.8/dist-packages/sklearn/svm/_base.py:1206: ConvergenceWarning: Liblinear failed to converge, increase the number of iterations.\n",
            "  warnings.warn(\n"
          ]
        },
        {
          "output_type": "stream",
          "name": "stdout",
          "text": [
            "Accuracy of the model: 32.073481585655266 For max_iter: 1 Tol: 0.01\n",
            "Accuracy of the model: 33.87536257361343 For max_iter: 1 Tol: 0.1\n",
            "Accuracy of the model: 41.12683484222554 For max_iter: 1 Tol: 1\n"
          ]
        },
        {
          "output_type": "stream",
          "name": "stderr",
          "text": [
            "/usr/local/lib/python3.8/dist-packages/sklearn/svm/_base.py:1206: ConvergenceWarning: Liblinear failed to converge, increase the number of iterations.\n",
            "  warnings.warn(\n"
          ]
        },
        {
          "output_type": "stream",
          "name": "stdout",
          "text": [
            "Accuracy of the model: 34.09510415751077 For max_iter: 1 Tol: 10\n"
          ]
        },
        {
          "output_type": "stream",
          "name": "stderr",
          "text": [
            "/usr/local/lib/python3.8/dist-packages/sklearn/svm/_base.py:1206: ConvergenceWarning: Liblinear failed to converge, increase the number of iterations.\n",
            "  warnings.warn(\n",
            "/usr/local/lib/python3.8/dist-packages/sklearn/svm/_base.py:1206: ConvergenceWarning: Liblinear failed to converge, increase the number of iterations.\n",
            "  warnings.warn(\n"
          ]
        },
        {
          "output_type": "stream",
          "name": "stdout",
          "text": [
            "Accuracy of the model: 33.87536257361343 For max_iter: 10 Tol: 0.01\n",
            "Accuracy of the model: 32.62723037707656 For max_iter: 10 Tol: 0.1\n"
          ]
        },
        {
          "output_type": "stream",
          "name": "stderr",
          "text": [
            "/usr/local/lib/python3.8/dist-packages/sklearn/svm/_base.py:1206: ConvergenceWarning: Liblinear failed to converge, increase the number of iterations.\n",
            "  warnings.warn(\n"
          ]
        },
        {
          "output_type": "stream",
          "name": "stdout",
          "text": [
            "Accuracy of the model: 33.87536257361343 For max_iter: 10 Tol: 1\n"
          ]
        },
        {
          "output_type": "stream",
          "name": "stderr",
          "text": [
            "/usr/local/lib/python3.8/dist-packages/sklearn/svm/_base.py:1206: ConvergenceWarning: Liblinear failed to converge, increase the number of iterations.\n",
            "  warnings.warn(\n"
          ]
        },
        {
          "output_type": "stream",
          "name": "stdout",
          "text": [
            "Accuracy of the model: 30.16612463742639 For max_iter: 10 Tol: 10\n"
          ]
        },
        {
          "output_type": "stream",
          "name": "stderr",
          "text": [
            "/usr/local/lib/python3.8/dist-packages/sklearn/svm/_base.py:1206: ConvergenceWarning: Liblinear failed to converge, increase the number of iterations.\n",
            "  warnings.warn(\n"
          ]
        },
        {
          "output_type": "stream",
          "name": "stdout",
          "text": [
            "Accuracy of the model: 33.90173156368111 For max_iter: 100 Tol: 0.01\n"
          ]
        },
        {
          "output_type": "stream",
          "name": "stderr",
          "text": [
            "/usr/local/lib/python3.8/dist-packages/sklearn/svm/_base.py:1206: ConvergenceWarning: Liblinear failed to converge, increase the number of iterations.\n",
            "  warnings.warn(\n"
          ]
        },
        {
          "output_type": "stream",
          "name": "stdout",
          "text": [
            "Accuracy of the model: 27.08974246286367 For max_iter: 100 Tol: 0.1\n"
          ]
        },
        {
          "output_type": "stream",
          "name": "stderr",
          "text": [
            "/usr/local/lib/python3.8/dist-packages/sklearn/svm/_base.py:1206: ConvergenceWarning: Liblinear failed to converge, increase the number of iterations.\n",
            "  warnings.warn(\n"
          ]
        },
        {
          "output_type": "stream",
          "name": "stdout",
          "text": [
            "Accuracy of the model: 47.42902346840116 For max_iter: 100 Tol: 1\n"
          ]
        },
        {
          "output_type": "stream",
          "name": "stderr",
          "text": [
            "/usr/local/lib/python3.8/dist-packages/sklearn/svm/_base.py:1206: ConvergenceWarning: Liblinear failed to converge, increase the number of iterations.\n",
            "  warnings.warn(\n"
          ]
        },
        {
          "output_type": "stream",
          "name": "stdout",
          "text": [
            "Accuracy of the model: 46.93680232047113 For max_iter: 100 Tol: 10\n"
          ]
        },
        {
          "output_type": "stream",
          "name": "stderr",
          "text": [
            "/usr/local/lib/python3.8/dist-packages/sklearn/svm/_base.py:1206: ConvergenceWarning: Liblinear failed to converge, increase the number of iterations.\n",
            "  warnings.warn(\n"
          ]
        },
        {
          "output_type": "stream",
          "name": "stdout",
          "text": [
            "Accuracy of the model: 33.87536257361343 For max_iter: 10000 Tol: 0.01\n"
          ]
        },
        {
          "output_type": "stream",
          "name": "stderr",
          "text": [
            "/usr/local/lib/python3.8/dist-packages/sklearn/svm/_base.py:1206: ConvergenceWarning: Liblinear failed to converge, increase the number of iterations.\n",
            "  warnings.warn(\n"
          ]
        },
        {
          "output_type": "stream",
          "name": "stdout",
          "text": [
            "Accuracy of the model: 33.831414256833966 For max_iter: 10000 Tol: 0.1\n"
          ]
        },
        {
          "output_type": "stream",
          "name": "stderr",
          "text": [
            "/usr/local/lib/python3.8/dist-packages/sklearn/svm/_base.py:1206: ConvergenceWarning: Liblinear failed to converge, increase the number of iterations.\n",
            "  warnings.warn(\n"
          ]
        },
        {
          "output_type": "stream",
          "name": "stdout",
          "text": [
            "Accuracy of the model: 32.62723037707656 For max_iter: 10000 Tol: 1\n",
            "Accuracy of the model: 33.49740704931001 For max_iter: 10000 Tol: 10\n"
          ]
        },
        {
          "output_type": "stream",
          "name": "stderr",
          "text": [
            "/usr/local/lib/python3.8/dist-packages/sklearn/svm/_base.py:1206: ConvergenceWarning: Liblinear failed to converge, increase the number of iterations.\n",
            "  warnings.warn(\n"
          ]
        }
      ]
    },
    {
      "cell_type": "code",
      "execution_count": null,
      "id": "0109d9ea",
      "metadata": {
        "id": "0109d9ea",
        "outputId": "1fc2f284-5d37-4937-ae18-edeb2f44aef0",
        "colab": {
          "base_uri": "https://localhost:8080/"
        }
      },
      "outputs": [
        {
          "output_type": "stream",
          "name": "stderr",
          "text": [
            "/usr/local/lib/python3.8/dist-packages/sklearn/svm/_base.py:1206: ConvergenceWarning: Liblinear failed to converge, increase the number of iterations.\n",
            "  warnings.warn(\n"
          ]
        },
        {
          "output_type": "execute_result",
          "data": {
            "text/plain": [
              "LinearSVC(max_iter=100, tol=1)"
            ]
          },
          "metadata": {},
          "execution_count": 15
        }
      ],
      "source": [
        "\n",
        "import pandas as pd\n",
        "# Load the test and train datasets\n",
        "train = pd.read_csv('train.csv', skipinitialspace=True, header=None)\n",
        "test = pd.read_csv('test.csv', skipinitialspace=True, header=None)\n",
        "model = LinearSVC(tol=1, max_iter=100)\n",
        "# Train the algorithm\n",
        "model.fit(train.iloc[:,1:], train.iloc[:,0])\n"
      ]
    },
    {
      "cell_type": "code",
      "execution_count": null,
      "id": "9b5467c0",
      "metadata": {
        "id": "9b5467c0"
      },
      "outputs": [],
      "source": [
        "def encode_confusion_matrix(confusion_matrix):\n",
        "    import pickle\n",
        "    encoded_matrix = dict()\n",
        "    object_name = get_model_id()\n",
        "    file_name = open(object_name, 'rb')\n",
        "    dict_encoding = pickle.load(file_name)\n",
        "    labels = list(dict_encoding.values())[0]\n",
        "    for row_indx, row in enumerate(confusion_matrix):\n",
        "        encoded_matrix[labels[row_indx]] = {}\n",
        "        for item_indx, item in enumerate(row):\n",
        "            encoded_matrix[labels[row_indx]][labels[item_indx]] = item\n",
        "    return encoded_matrix\n"
      ]
    },
    {
      "cell_type": "code",
      "execution_count": null,
      "id": "5daaea70",
      "metadata": {
        "id": "5daaea70",
        "outputId": "19637414-1a94-4780-9bcc-7f8e3cfd860b",
        "colab": {
          "base_uri": "https://localhost:8080/"
        }
      },
      "outputs": [
        {
          "output_type": "stream",
          "name": "stdout",
          "text": [
            "Confusion matrix of the model is:  {'GALAXY': {'GALAXY': 0, 'QSO': 2409, 'STAR': 1445}, 'QSO': {'GALAXY': 0, 'QSO': 3210, 'STAR': 601}, 'STAR': {'GALAXY': 0, 'QSO': 1545, 'STAR': 2167}}\n",
            "Accuracy of the model is:  47.262019864639186\n"
          ]
        }
      ],
      "source": [
        "\n",
        "# Predict the class labels\n",
        "y_pred = model.predict(test.iloc[:,1:])\n",
        "# import the library to calculate confusion_matrix\n",
        "from sklearn.metrics import confusion_matrix\n",
        "# calculate confusion matrix\n",
        "confusion_matrix = confusion_matrix(test.iloc[:,0], y_pred)\n",
        "encoded_matrix = encode_confusion_matrix(confusion_matrix)\n",
        "print('Confusion matrix of the model is: ', encoded_matrix)\n",
        "# calculate accuracy\n",
        "score = model.score(test.iloc[:, 1:], test.iloc[:, 0])\n",
        "# The value is returned as a decimal value between 0 and 1\n",
        "# converting to percentage\n",
        "accuracy = score * 100\n",
        "print('Accuracy of the model is: ', accuracy)\n"
      ]
    },
    {
      "cell_type": "code",
      "source": [
        "from sklearn.metrics import accuracy_score, f1_score\n",
        "sortedlabels=model.classes_\n",
        "cm = pd.DataFrame(confusion_matrix, index=sortedlabels, columns=sortedlabels)\n",
        "import seaborn as sns\n",
        "import matplotlib.pyplot as plt\n",
        "import pandas as pd\n",
        "sns.set(font_scale=1.2)\n",
        "x_axis_labels = [\"GALAXY\",\"QSO\",\"STAR\"] # labels for x-axis\n",
        "y_axis_labels = [\"GALAXY\",\"QSO\",\"STAR\"] # labels for y-axis\n",
        "sns.heatmap(cm,linewidths=0.5,cmap=sns.light_palette((1,0.2,0.6), n_colors=10000), fmt='g',xticklabels=x_axis_labels, yticklabels=y_axis_labels, annot=True)\n",
        "plt.xlabel('Predicted')\n",
        "plt.ylabel('True')"
      ],
      "metadata": {
        "colab": {
          "base_uri": "https://localhost:8080/",
          "height": 307
        },
        "id": "U0cM_MnEpt5X",
        "outputId": "10954794-e657-43f7-bd88-dac047609e28"
      },
      "id": "U0cM_MnEpt5X",
      "execution_count": null,
      "outputs": [
        {
          "output_type": "execute_result",
          "data": {
            "text/plain": [
              "Text(27.499999999999996, 0.5, 'True')"
            ]
          },
          "metadata": {},
          "execution_count": 18
        },
        {
          "output_type": "display_data",
          "data": {
            "text/plain": [
              "<Figure size 432x288 with 2 Axes>"
            ],
            "image/png": "[encoded data removed]"
          },
          "metadata": {}
        }
      ]
    },
    {
      "cell_type": "code",
      "execution_count": null,
      "id": "81b512dc",
      "metadata": {
        "id": "81b512dc",
        "outputId": "6f140360-69a8-4698-d3e8-eae8b8b9adce",
        "colab": {
          "base_uri": "https://localhost:8080/"
        }
      },
      "outputs": [
        {
          "output_type": "stream",
          "name": "stdout",
          "text": [
            "Below is the prediction stage of the AI\n"
          ]
        }
      ],
      "source": [
        "\n",
        "# fe_transform function traansforms raw data into a form the model can consume\n",
        "print('Below is the prediction stage of the AI')\n",
        "def fe_transform(data_dict, object_path=None):\n",
        "    import os\n",
        "    import pandas as pd\n",
        "    from io import StringIO\n",
        "    import json\n",
        "    from sklearn.model_selection import train_test_split\n",
        "    from sklearn.feature_extraction.text import CountVectorizer\n",
        "    from sklearn.feature_extraction.text import TfidfVectorizer\n",
        "    from sklearn.impute import SimpleImputer\n",
        "    from sklearn.preprocessing import OneHotEncoder\n",
        "    from sklearn.feature_extraction import text\n",
        "    import pickle\n",
        "    from scipy import sparse\n",
        "    \n",
        "    dataset = pd.DataFrame([data_dict])\n",
        "\n",
        "    return dataset\n",
        "def encode_label_transform_predict(prediction):\n",
        "    import pickle\n",
        "    encoded_prediction = prediction\n",
        "    label = \"class\"\n",
        "    object_name = \"c50fd75e-d6ab-4542-a28a-0725ea220672\"\n",
        "    file_name = open(object_name, 'rb')\n",
        "    dict_encoding = pickle.load(file_name)\n",
        "    label_name = list(dict_encoding.keys())[0]\n",
        "    encoded_prediction = \\\n",
        "        dict_encoding[label_name][int(prediction)]\n",
        "    print(encoded_prediction)\n",
        "def get_labels(object_path=None):\n",
        "    label_names = []\n",
        "    label_name = list(dict_encoding.keys())[0]\n",
        "    label_values_dict = dict_encoding[label_name]\n",
        "    for key, value in label_values_dict.items():\n",
        "        label_names.append(str(value))\n"
      ]
    },
    {
      "cell_type": "code",
      "execution_count": null,
      "id": "853c2c94",
      "metadata": {
        "id": "853c2c94",
        "outputId": "b4a34d6e-22cd-4eb3-adf5-3189d52c0ee5",
        "colab": {
          "base_uri": "https://localhost:8080/"
        }
      },
      "outputs": [
        {
          "output_type": "stream",
          "name": "stdout",
          "text": [
            "QSO\n"
          ]
        },
        {
          "output_type": "stream",
          "name": "stderr",
          "text": [
            "/usr/local/lib/python3.8/dist-packages/sklearn/base.py:443: UserWarning: X has feature names, but LinearSVC was fitted without feature names\n",
            "  warnings.warn(\n"
          ]
        }
      ],
      "source": [
        "\n",
        "test_sample = {'obj_ID': 1.23766323632518e+18, 'alpha': 180.00266879944, 'delta': 32.6821601350916, 'u': -4983.109305, 'g': -4983.69888, 'r': 19.59809, 'i': 20.8056865, 'z': -4985.104725, 'run_ID': 4135.5, 'rerun_ID': 301, 'cam_col': 4, 'field_ID': 500.0, 'spec_obj_ID': 7.213259948368224e+18, 'redshift': 3.5021909085, 'plate': 6406.5, 'MJD': 55270.0, 'fiber_ID': 500.5}\n",
        "# Call FE on test_sample\n",
        "test_sample_modified = fe_transform(test_sample)\n",
        "# Make a prediction\n",
        "prediction = model.predict(test_sample_modified)\n",
        "encode_label_transform_predict(prediction)\n"
      ]
    }
  ],
  "metadata": {
    "colab": {
      "provenance": []
    },
    "language_info": {
      "name": "python"
    },
    "kernelspec": {
      "name": "python3",
      "display_name": "Python 3"
    },
    "gpuClass": "standard"
  },
  "nbformat": 4,
  "nbformat_minor": 5
}